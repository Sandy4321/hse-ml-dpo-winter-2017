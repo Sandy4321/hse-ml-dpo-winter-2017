{
 "cells": [
  {
   "cell_type": "markdown",
   "metadata": {},
   "source": [
    "# Машинное обучение и майнинг данных\n",
    "## Домашнее задание №1 -  Основы Pandas и Numpy\n"
   ]
  },
  {
   "cell_type": "markdown",
   "metadata": {},
   "source": [
    "<hr\\>\n",
    "**Общая информация**\n",
    "\n",
    "**Срок сдачи:** 7 февраля 2017, 23:59 <br\\>\n",
    "**Штраф за опоздание:** -1 за каждый день\n",
    "\n",
    "При отправлении ДЗ указывайте фамилию в названии файла<br\\>\n",
    "\n",
    "Сопровождайте ваш код изображеними, комментариями и выводами. <br\\>\n",
    "Иммейте ввиду, что на некоторые задачи нет единственного верного и полного ответа. Чем больше информации вы сможете извлечь, аргументированных выводов сформулировать, тем лучше.\n",
    "\n",
    "Используйте данный Ipython Notebook при оформлении домашнего задания.\n",
    "<hr\\>"
   ]
  },
  {
   "cell_type": "code",
   "execution_count": null,
   "metadata": {
    "collapsed": true
   },
   "outputs": [],
   "source": [
    "import pandas as pd\n",
    "import numpy as np\n",
    "import matplotlib.pyplot as plt\n",
    "\n",
    "%matplotlib inline\n",
    "\n",
    "plt.style.use('ggplot')\n",
    "plt.rcParams['figure.figsize'] = (16,8)"
   ]
  },
  {
   "cell_type": "markdown",
   "metadata": {},
   "source": [
    "# Numpy\n",
    "Будем дорешивать задания, до которых не дошли на нашей встречи. При необходимости, перед заданием приводится пояснения и подсказки."
   ]
  },
  {
   "cell_type": "markdown",
   "metadata": {},
   "source": [
    "## Простые операции с массивами"
   ]
  },
  {
   "cell_type": "markdown",
   "metadata": {},
   "source": [
    "#### Задание 1. (0.5 балла)\n",
    "Сгенерируйте случайный вектор длины 20 из целых чисел на интервале [0,50]. Оставьте в нем только те элементы что меньше 5 персентиля и больше 95 персентиля"
   ]
  },
  {
   "cell_type": "code",
   "execution_count": null,
   "metadata": {
    "collapsed": true
   },
   "outputs": [],
   "source": [
    "## Your code here"
   ]
  },
  {
   "cell_type": "markdown",
   "metadata": {},
   "source": [
    "#### Задание 2. (0.5 балла)\n",
    "Сгенерируйте случайную матрицу размера $5 \\times 6$ из целых чисел на интервале [0,50]. Выведите столбец с содержащий максимальное значение во всей матрице."
   ]
  },
  {
   "cell_type": "code",
   "execution_count": null,
   "metadata": {
    "collapsed": true
   },
   "outputs": [],
   "source": [
    "## Your code here"
   ]
  },
  {
   "cell_type": "markdown",
   "metadata": {},
   "source": [
    "## Пропущенные значения и бесконечность"
   ]
  },
  {
   "cell_type": "markdown",
   "metadata": {},
   "source": [
    "В `numpy` есть специальные обозначения для бесконечности (`np.inf`) и пропущенных значений (`np.nan`).\n",
    "\n",
    "В реальном мире приходится работать с очень \"грязными\" данными и частенько бывает, что какие-то измерения, значения признаков и тп просто отсутствуют. К этому надо быть готовым"
   ]
  },
  {
   "cell_type": "code",
   "execution_count": null,
   "metadata": {
    "collapsed": false
   },
   "outputs": [],
   "source": [
    "np.log(0) \n",
    "# Можно понять, почему тут возникает, -inf если вспомнить график логорифма"
   ]
  },
  {
   "cell_type": "code",
   "execution_count": null,
   "metadata": {
    "collapsed": false
   },
   "outputs": [],
   "source": [
    "x = np.linspace(0, 20, 100)\n",
    "y = np.log(x)\n",
    "\n",
    "# Рисуем линию\n",
    "plt.plot(x, y)\n",
    "\n",
    "# Подписываем оси\n",
    "plt.xlabel('x')\n",
    "plt.ylabel('log(x)')"
   ]
  },
  {
   "cell_type": "code",
   "execution_count": null,
   "metadata": {
    "collapsed": false
   },
   "outputs": [],
   "source": [
    "np.log(-1)\n",
    "# А это - просто какая-то чушь, поэтому и nan =)"
   ]
  },
  {
   "cell_type": "code",
   "execution_count": null,
   "metadata": {
    "collapsed": false
   },
   "outputs": [],
   "source": [
    "# Зададим вектор и заменим случайные элементы на np.nan\n",
    "arr = np.random.rand(10)\n",
    "idx = np.random.randint(0, arr.shape[0], 4)\n",
    "arr[idx] = np.nan\n",
    "arr"
   ]
  },
  {
   "cell_type": "code",
   "execution_count": null,
   "metadata": {
    "collapsed": false
   },
   "outputs": [],
   "source": [
    "# проверяем, является ли значение пропущенным\n",
    "is_nan = np.isnan(arr)\n",
    "is_nan"
   ]
  },
  {
   "cell_type": "code",
   "execution_count": null,
   "metadata": {
    "collapsed": false
   },
   "outputs": [],
   "source": [
    "# проверяем, есть ли хотя бы одно пропущенное значение в массиве\n",
    "np.any(is_nan)"
   ]
  },
  {
   "cell_type": "code",
   "execution_count": null,
   "metadata": {
    "collapsed": false
   },
   "outputs": [],
   "source": [
    "# проверяем, все ли пропущенные\n",
    "np.all(is_nan)"
   ]
  },
  {
   "cell_type": "markdown",
   "metadata": {},
   "source": [
    "Функции `np.all()` и `np.any()` можно использовать для любой бинарной маски (не только `np.isnan`)"
   ]
  },
  {
   "cell_type": "markdown",
   "metadata": {},
   "source": [
    "#### Задание 3. (1 балл)\n",
    "Посмотрите на результаты арифметических и логических операций с участием np.nan, np.inf и обычных чисел.\n",
    "\n",
    "Как можно резюмировать увиденное?"
   ]
  },
  {
   "cell_type": "code",
   "execution_count": null,
   "metadata": {
    "collapsed": true
   },
   "outputs": [],
   "source": [
    "## Your code here"
   ]
  },
  {
   "cell_type": "markdown",
   "metadata": {},
   "source": [
    "Нужно быть аккуратным при аггрегации массивов с пропусками"
   ]
  },
  {
   "cell_type": "code",
   "execution_count": null,
   "metadata": {
    "collapsed": false
   },
   "outputs": [],
   "source": [
    "print np.nanmean(arr)\n",
    "print np.mean(arr)"
   ]
  },
  {
   "cell_type": "markdown",
   "metadata": {},
   "source": [
    "#### Задание 4. (1 балл)\n",
    "Замените все пропущенные значение в массиве `arr` средним значением"
   ]
  },
  {
   "cell_type": "code",
   "execution_count": null,
   "metadata": {
    "collapsed": true
   },
   "outputs": [],
   "source": [
    "## Your code here"
   ]
  },
  {
   "cell_type": "markdown",
   "metadata": {},
   "source": [
    "## Бутстреп"
   ]
  },
  {
   "cell_type": "markdown",
   "metadata": {},
   "source": [
    "Иногда для анализа данных полезно знать не только среднее значение какого-нибудь признака, но и его [доверительный интервал](http://www.machinelearning.ru/wiki/index.php?title=%D0%94%D0%BE%D0%B2%D0%B5%D1%80%D0%B8%D1%82%D0%B5%D0%BB%D1%8C%D0%BD%D1%8B%D0%B9_%D0%B8%D0%BD%D1%82%D0%B5%D1%80%D0%B2%D0%B0%D0%BB). \n",
    "\n",
    "Из курса статистики известно, что если выборка $x$ подчиняются нормальному закону распределения и нам известно стандартное отклонение $\\sigma$ на *генеральной совокупности*, то доверительный интервал c доверительной вероятностью $(1-\\alpha)$ для среднего можно вычислить по следующей формуле:\n",
    "\n",
    "$$\\left( \\bar{x} - z_{1 - \\alpha/2}\\frac{\\sigma}{\\sqrt{n}}, \\bar{x} + z_{1 - \\alpha/2}\\frac{\\sigma}{\\sqrt{n}} \\right),$$\n",
    "\n",
    "где $\\bar{x}$ - выборочное среднее , $n$ - это размер выборки, а $z_{\\gamma}$ - это квантиль нормального распределения уровня $\\gamma$.\n",
    "\n",
    "Возьмем известный почти всем набор данных Iris, выберем какой-то признак и посчитаем доверительный интервал"
   ]
  },
  {
   "cell_type": "code",
   "execution_count": null,
   "metadata": {
    "collapsed": true
   },
   "outputs": [],
   "source": [
    "from sklearn.datasets import load_iris\n",
    "iris = load_iris()"
   ]
  },
  {
   "cell_type": "code",
   "execution_count": null,
   "metadata": {
    "collapsed": false
   },
   "outputs": [],
   "source": [
    "print iris.DESCR"
   ]
  },
  {
   "cell_type": "code",
   "execution_count": null,
   "metadata": {
    "collapsed": false
   },
   "outputs": [],
   "source": [
    "# Выберем второй признак и посчитаем доверительный интервал\n",
    "X = iris.data\n",
    "x = X[:, 1]"
   ]
  },
  {
   "cell_type": "code",
   "execution_count": null,
   "metadata": {
    "collapsed": false
   },
   "outputs": [],
   "source": [
    "plt.hist(x, bins=20)"
   ]
  },
  {
   "cell_type": "code",
   "execution_count": null,
   "metadata": {
    "collapsed": false
   },
   "outputs": [],
   "source": [
    "# Посчитаем 95% доверительный интервал (alpha = 0.05)\n",
    "# Тогда просто согласно формуле\n",
    "\n",
    "sigma = x.std() # Вообще говоря, это неправда, но будем считать, что это знание свыше\n",
    "n = x.shape[0]\n",
    "z = 1.96 # 0.975 квантиль\n",
    "xm = x.mean()\n",
    "\n",
    "lb, rb = xm - z*sigma/np.sqrt(n), xm + z*sigma/np.sqrt(n)\n",
    "\n",
    "print '95%% доверительный интервал: (%.3f, %.3f)' % (lb, rb)\n",
    "print 'Среднее %.3f' % xm"
   ]
  },
  {
   "cell_type": "markdown",
   "metadata": {
    "collapsed": true
   },
   "source": [
    "Есть другой, более универсальный способ для расчета доверительных интервалов любых статистик - метод [bootstap](https://en.wikipedia.org/wiki/Bootstrapping_(statistics)), идея которого заключается в многократной генерации выборок на базе имеющейся выборки.\n",
    "\n",
    "#### Задание 5. (1 балл)\n",
    "Для того, чтобы найти доверительный интервал методом bootstrap проделайте следующие шаги:\n",
    "1. Создайте случайную матрицу размера $150 \\times 1000$. $150$ - потому что в iris есть измерения по $150$ объектам, а $1000$ - это количество bootstrap-выборок, которое мы отсэмплируем. Значения в этой матрице должны быть целочисленными от 0 до 149 (включительно). Полученная матрица - матрица со случайными индексами элементов массива, для которого мы считаем доверительный интервал\n",
    "2. Выполните сэмплирование - должна получится новая матрица размера $150 \\times 1000$, но заполненная значениями из массива.\n",
    "3. Посчитайте среднее по каждому столбцу - получится массив выборочных средних.\n",
    "4. По массиву из пункта выше посчитайте 2.5% и 97.5% персентили - это и будут границы доверительного интервала."
   ]
  },
  {
   "cell_type": "code",
   "execution_count": null,
   "metadata": {
    "collapsed": true
   },
   "outputs": [],
   "source": [
    "## Your code here"
   ]
  },
  {
   "cell_type": "markdown",
   "metadata": {},
   "source": [
    "## Линейная регрессия"
   ]
  },
  {
   "cell_type": "markdown",
   "metadata": {},
   "source": [
    "Это задание больше на правильное применение матричных операций, нежели на саму регрессию.\n",
    "\n",
    "#### Задание 6. (1 балл)\n",
    "\n",
    "Загрузите [файл 1](https://www.dropbox.com/s/kg9px9v3xfysak9/tutorial_dataset.csv?dl=0) или [файл 2](https://www.dropbox.com/s/f87gm612o144emx/tutorial_dataset_2.csv?dl=0) в папку с тетрадкой. С помощью функции `loadtxt` в модуле `numpy` загрузите табличные данные одного из файлов. Присвойте y = D[:,0] а X = D[:, 1:].\n",
    "\n",
    "Сейчас мы воспользуемся одной магической формулой и построим модель линейной регрессии. Откуда эта формула берется мы узнаем на следующих занятиях.\n",
    "\n",
    "Модель линейной регрессии через матричные опреции записывается так: $\\hat{y} = X\\hat{\\beta}$, где\n",
    "\n",
    "$$ \\hat{\\beta} = (X^T X)^{-1} X^T y \\text{ - оценка коэффициентов модели}$$ \n",
    "Остатки модели рассчитываются как\n",
    "$$ \\text{res} = y - \\hat{y} $$\n",
    "\n",
    "Итак, еще раз:\n",
    "\n",
    "1. Загрузите данные\n",
    "2. Оцените веса $\\hat{\\beta}$ с помощью формулы выше (для того, чтобы найти обратную матрицу, используйте функцию `np.linalg.inv()`)\n",
    "3. Расчитайте предсказание модели $\\hat{y}$ и её остатки\n",
    "4. Воспользуйтесь функцией `plt.scatter()`, так, чтобы по оси были Y остатки, а по оси X - $\\hat{y}$\n",
    "5. По рисунку будет понятно, все ли вы сделали правильно"
   ]
  },
  {
   "cell_type": "code",
   "execution_count": null,
   "metadata": {
    "collapsed": false
   },
   "outputs": [],
   "source": [
    "D = np.loadtxt('tutorial_dataset.csv', skiprows=1, delimiter=',')\n",
    "y = D[:,0]\n",
    "X = D[:,1:]"
   ]
  },
  {
   "cell_type": "code",
   "execution_count": null,
   "metadata": {
    "collapsed": true
   },
   "outputs": [],
   "source": [
    "## Your code here"
   ]
  },
  {
   "cell_type": "markdown",
   "metadata": {},
   "source": [
    "# Pandas"
   ]
  },
  {
   "cell_type": "markdown",
   "metadata": {},
   "source": [
    "### Качество вина"
   ]
  },
  {
   "cell_type": "markdown",
   "metadata": {},
   "source": [
    "Загрузите [датасет](https://archive.ics.uci.edu/ml/machine-learning-databases/wine-quality/winequality-red.csv) с информацией о характеристиках вина и его качестве. (В метод `pd.read_csv()` можно подать веб-ссылку на данные и пандас их скачает и преобразует в `DataFrame`)."
   ]
  },
  {
   "cell_type": "code",
   "execution_count": null,
   "metadata": {
    "collapsed": true
   },
   "outputs": [],
   "source": [
    "## Your code here"
   ]
  },
  {
   "cell_type": "markdown",
   "metadata": {},
   "source": [
    "####  Задание 7. (1 балл)\n",
    "\n",
    "Ответьте на следующие вопросы:\n",
    "\n",
    "* Что является \"объектами\" в это наборе данных. Сколько их?\n",
    "* Какие признаки описывают объекты? Сколько их?\n",
    "* Каковы их области значений?\n",
    "* Какой признак вы бы определили как целевой?\n",
    "* Есть ли пропуски в данных"
   ]
  },
  {
   "cell_type": "code",
   "execution_count": null,
   "metadata": {
    "collapsed": true
   },
   "outputs": [],
   "source": [
    "## Your code here"
   ]
  },
  {
   "cell_type": "markdown",
   "metadata": {},
   "source": [
    "####  Задание 8. (0.5 балла)\n",
    "\n",
    "С помощью корреляции определите один наиболее связанный с целевой переменной признак."
   ]
  },
  {
   "cell_type": "code",
   "execution_count": null,
   "metadata": {
    "collapsed": true
   },
   "outputs": [],
   "source": [
    "## Your code here"
   ]
  },
  {
   "cell_type": "markdown",
   "metadata": {},
   "source": [
    "#### Задание 9. (1 балл)\n",
    "Создайте новый столбец `quality_cat`, которая будет иметь значение `1` если `quality > 5` и `0` - иначе. <br/>\n",
    "\n",
    "Нарисуйте на одном графике две гистограммы признака `alcohol` в группах с `quality_cat == 1` и `quality_cat == 0`. Для нагладности, в метод `df.hist()` так же передайте параметр `alpha=0.3`, регулирующий прозрачность"
   ]
  },
  {
   "cell_type": "code",
   "execution_count": null,
   "metadata": {
    "collapsed": true
   },
   "outputs": [],
   "source": [
    "## Your code here"
   ]
  },
  {
   "cell_type": "markdown",
   "metadata": {},
   "source": [
    "#### Задание 10. (2 балла)\n",
    "\n",
    "Можете ли вы придумать правило для классификации вина на хорошее и плохое по рисунку выше? Пусть это будет нашей первой моделью)\n",
    "\n",
    "Напишите функцию `brute_clf_train()` которая бы перебирала пороговое значение по признаку `alcohol` и находило бы \"оптимальное\". Пусть критерием будет \"число правильно классифицированных объектов\".\n",
    "\n",
    "*Если вы не умеете писать функции на python, то просто напишите последовательность команд которые находят нужный результат*"
   ]
  },
  {
   "cell_type": "code",
   "execution_count": null,
   "metadata": {
    "collapsed": true
   },
   "outputs": [],
   "source": [
    "## Your code here"
   ]
  },
  {
   "cell_type": "markdown",
   "metadata": {},
   "source": [
    "#### Задание 11. (0.5 балла)\n",
    "Напишите функцию `brute_clf_predict()` которая бы по значению признака `alcohol` и найденному выше порогу говорила какое качество у вина.\n",
    "А заодно выводила бы количество ошибок на текущем наборе данных.\n",
    "\n",
    "Проверьте, как обобщается наша модель на другие данные.\n",
    "* Загрузите другой [датасет](https://archive.ics.uci.edu/ml/machine-learning-databases/wine-quality/winequality-white.csv)\n",
    "* Выполните те же панипуляции с признаками (`quality_cat`)\n",
    "* Используйте нашу простейшую модель для предсказания качества на новых данных. (Заново искать порог не надо)\n",
    "* Сравните результаты на двух датасетах"
   ]
  },
  {
   "cell_type": "code",
   "execution_count": null,
   "metadata": {
    "collapsed": true
   },
   "outputs": [],
   "source": [
    "## Your code here"
   ]
  }
 ],
 "metadata": {
  "anaconda-cloud": {},
  "kernelspec": {
   "display_name": "Python [conda root]",
   "language": "python",
   "name": "conda-root-py"
  },
  "language_info": {
   "codemirror_mode": {
    "name": "ipython",
    "version": 2
   },
   "file_extension": ".py",
   "mimetype": "text/x-python",
   "name": "python",
   "nbconvert_exporter": "python",
   "pygments_lexer": "ipython2",
   "version": "2.7.12"
  },
  "nav_menu": {},
  "toc": {
   "navigate_menu": true,
   "number_sections": false,
   "sideBar": true,
   "threshold": 6,
   "toc_cell": false,
   "toc_section_display": "block",
   "toc_window_display": true
  }
 },
 "nbformat": 4,
 "nbformat_minor": 2
}
