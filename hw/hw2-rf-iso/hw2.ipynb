{
 "cells": [
  {
   "cell_type": "markdown",
   "metadata": {},
   "source": [
    "# Машинное обучение и майнинг данных\n",
    "## Домашнее задание №2 - Линии безразличия, RandomForest\n"
   ]
  },
  {
   "cell_type": "markdown",
   "metadata": {},
   "source": [
    "<hr\\>\n",
    "**Общая информация**\n",
    "\n",
    "**Срок сдачи:** 28 февраля 2017, 23:59 <br\\>\n",
    "**Штраф за опоздание:** -1 за каждый день\n",
    "\n",
    "При отправлении ДЗ указывайте фамилию в названии файла<br\\>\n",
    "\n",
    "Сопровождайте ваш код изображеними, комментариями и выводами. <br\\>\n",
    "Иммейте ввиду, что на некоторые задачи нет единственного верного и полного ответа. Чем больше информации вы сможете извлечь, аргументированных выводов сформулировать, тем лучше.\n",
    "\n",
    "Используйте данный Ipython Notebook при оформлении домашнего задания.\n",
    "<hr\\>"
   ]
  },
  {
   "cell_type": "code",
   "execution_count": null,
   "metadata": {
    "collapsed": true
   },
   "outputs": [],
   "source": [
    "import pandas as pd\n",
    "import numpy as np\n",
    "import matplotlib.pyplot as plt\n",
    "\n",
    "%matplotlib inline\n",
    "\n",
    "plt.style.use('ggplot')\n",
    "plt.rcParams['figure.figsize'] = (16,6)"
   ]
  },
  {
   "cell_type": "markdown",
   "metadata": {},
   "source": [
    "# Линии безразличия (iso-lines)\n",
    "Немного углубимся в пространство ROC-кривых."
   ]
  },
  {
   "cell_type": "markdown",
   "metadata": {},
   "source": [
    "Напоминание:\n",
    "\n",
    "Пусть $y^{(i)}$ - истинная метка класса для $i$-го объекта, а $\\hat{y}^{(i)}=a(x^{(i)})$ - метка, полученная алгоритмом. Матрица перемешивания имеет вид:\n",
    "\n",
    "\n",
    "<style type=\"text/css\">\n",
    ".tg  {border-collapse:collapse;border-spacing:0;border:none;}\n",
    ".tg td{font-family:Arial, sans-serif;font-size:14px;padding:10px 5px;border-style:solid;border-width:0px;overflow:hidden;word-break:normal;}\n",
    ".tg th{font-family:Arial, sans-serif;font-size:14px;font-weight:normal;padding:10px 5px;border-style:solid;border-width:0px;overflow:hidden;word-break:normal;}\n",
    ".tg .tg-s6z2{text-align:center}\n",
    ".tg .tg-baqh{text-align:center;vertical-align:top}\n",
    ".tg .tg-yw4l{vertical-align:top}\n",
    "</style>\n",
    "<table class=\"tg\">\n",
    "  <tr>\n",
    "    <th class=\"tg-031e\" colspan=\"2\" rowspan=\"2\"><br></th>\n",
    "    <th class=\"tg-s6z2\" colspan=\"2\">Истинное значение</th>\n",
    "  </tr>\n",
    "  <tr>\n",
    "    <td class=\"tg-s6z2\">1</td>\n",
    "    <td class=\"tg-baqh\">0</td>\n",
    "  </tr>\n",
    "  <tr>\n",
    "    <td class=\"tg-031e\" rowspan=\"2\">Предсказание</td>\n",
    "    <td class=\"tg-s6z2\">1</td>\n",
    "    <td class=\"tg-s6z2\">TP<br></td>\n",
    "    <td class=\"tg-baqh\">FP</td>\n",
    "  </tr>\n",
    "  <tr>\n",
    "    <td class=\"tg-baqh\">0</td>\n",
    "    <td class=\"tg-baqh\">FN<br></td>\n",
    "    <td class=\"tg-baqh\">TN</td>\n",
    "  </tr>\n",
    "  <tr>\n",
    "    <td class=\"tg-yw4l\"></td>\n",
    "    <td class=\"tg-baqh\"></td>\n",
    "    <td class=\"tg-baqh\">Pos<br></td>\n",
    "    <td class=\"tg-baqh\">Neg</td>\n",
    "  </tr>\n",
    "</table>\n",
    "\n",
    "* $TP$ (true positive) - количество верно предсказанных объектов класса 1\n",
    "* $FP$ (false positive) - количестно неверно  предсказанных объектов класса 0 (ошибка первого рода)\n",
    "* $FN$ (false negative) - количестно неверно  предсказанных объектов класса 1 (ошибка второго рода)\n",
    "* $TN$ (true negative) - количестно верно  предсказанных объектов класса 0\n",
    "* $TPR = \\frac{TP}{TP + FN}=\\frac{TP}{Pos}$\n",
    "* $FPR = \\frac{FP}{FP + TN} = \\frac{FP}{Neg}$"
   ]
  },
  {
   "cell_type": "markdown",
   "metadata": {},
   "source": [
    "Вспомним, что такое accuracy и добавим немного базовой алгебры:\n",
    "* $ \\text{accuracy} = \\frac{TP + TN}{Pos+Neg} = \\frac{Pos}{Pos + Neg}\\frac{TP}{Pos} + \\frac{Neg}{Pos+Neg}\\frac{TN}{Neg} = r_P \\cdot TPR + r_N (1-FPR)$\n",
    "* $r_P$ и  $r_N$ - это доли положительного и отрицательного класса в данных, мы их можем посчитать\n",
    "\n",
    "Как мы знаем, ROC-кривая строится в пространстве $TPR$ и $FPR$ при различных порогах. То есть, по сути для каждого значения порога $t$ переопределяется матрица перемешивания, а значит в зависимости от $t$ будут разные значения $TPR$ и $FPR$. Учтем этот факт в формуле для $\\text{accuracy}$ следующим образом:\n",
    "* $ \\text{accuracy} = r_P \\cdot TPR(t) + r_N (1-FPR(t))$\n",
    "\n",
    "Теперь завиксируем какое-то конкретное значение $\\text{accuracy} = a$ и мы сможем получить линии безразличия в пространстве $TPR$, $FPR$:\n",
    "\n",
    "$$ TPR(t) = \\frac{a - r_N}{r_P}  + \\frac{r_N}{r_P}FPR(t)$$\n",
    "\n",
    "Для любой точке, в которой выполняется это равенство метрика $\\text{accuracy}$ будет одинаковой и равной `a`."
   ]
  },
  {
   "cell_type": "markdown",
   "metadata": {},
   "source": [
    "#### Задание\n",
    "\n",
    "Изобраизите линии безразличия для `rn = [0.2, 0.5, 0.7]` и `accuracy` от `0.1` до `1` c шагом `0.1` (для каждого `rn` отдельный график)"
   ]
  },
  {
   "cell_type": "code",
   "execution_count": null,
   "metadata": {
    "collapsed": false
   },
   "outputs": [],
   "source": [
    "fig, ax = plt.subplots(1,3)\n",
    "\n",
    "for i, rn in enumerate([0.2, 0.5, 0.7]):\n",
    "    # Your Code Here\n",
    "        \n",
    "    ax[i].set_title('rn = %.1f' % rn)\n",
    "    ax[i].set_xlabel('FPR')\n",
    "    ax[i].set_ylabel('TPR')"
   ]
  },
  {
   "cell_type": "markdown",
   "metadata": {},
   "source": [
    "Если вы все сделали правильно, то вы должны увидеть следующее:\n",
    "* Чем выше `rn` тем сильнее возрастание линии\n",
    "* Чем выше линия, тем `accuracy` выше"
   ]
  },
  {
   "cell_type": "markdown",
   "metadata": {},
   "source": [
    "Рассмотрим пример ниже:"
   ]
  },
  {
   "cell_type": "markdown",
   "metadata": {},
   "source": [
    "Пусть есть два алгоритма со следующими показателями $FPR$ и $TPR$:\n",
    "\n",
    "* `alg1: 0.6, 0.8375`\n",
    "* `alg2: 0.4, 0.72`\n",
    "\n",
    "Построим линию безразличия для `accuracy = 0.75`\n",
    "\n",
    "Если доля отрицательного класса в данных равна `20%` то:\n",
    "* `alg1` лучше `alg2` (по метрике `accuracy`), так как он находится ниже линии безразличия\n",
    "* любой алгоритм лежаший на соответствующей линии безразличия будет лучше `alg2` (по метрике `accuracy`)\n",
    "* любой алгоритм лежаший над линией безразличия будет лучше `alg1` (по метрике `accuracy`)"
   ]
  },
  {
   "cell_type": "code",
   "execution_count": null,
   "metadata": {
    "collapsed": false
   },
   "outputs": [],
   "source": [
    "plt.figure(figsize=(6,6))\n",
    "\n",
    "rn = 0.2 # Доля отрицательного класса\n",
    "rp = 1-rn\n",
    "\n",
    "a = 0.75\n",
    "\n",
    "alg1 = (0.6, 0.8375)\n",
    "alg2 = (0.4, 0.72)\n",
    "\n",
    "plt.scatter(alg1[0], alg1[1], color='r', marker='*', s=200)\n",
    "plt.text(alg1[0], alg1[1], 'Algorithm 1', )\n",
    "\n",
    "plt.scatter(alg2[0], alg2[1], color='g', marker='s', s=200)\n",
    "plt.text(alg2[0], alg2[1], 'Algorithm 2', )\n",
    "\n",
    "fpr = np.linspace(0,1,10)\n",
    "tpr = (a - rn)/rp + (rn/rp)*fpr\n",
    "plt.plot(fpr, tpr, label='accuracy = %.2f' %a)\n",
    "plt.xlim(0,1)\n",
    "plt.ylim(0,1)\n",
    "plt.xlabel('FPR')\n",
    "plt.ylabel('TPR')\n",
    "plt.legend()"
   ]
  },
  {
   "cell_type": "markdown",
   "metadata": {},
   "source": [
    "#### Задание\n",
    "\n",
    "При какой доле отрицательных примеров (`rn`) алгоритм `alg2` окажется лучше `alg1` (по метрике `accuracy`)"
   ]
  },
  {
   "cell_type": "code",
   "execution_count": null,
   "metadata": {
    "collapsed": true
   },
   "outputs": [],
   "source": [
    "## Your Code Here"
   ]
  },
  {
   "cell_type": "markdown",
   "metadata": {},
   "source": [
    "Можно вывести аналогичные формулы линий безразличия для других метрик качества бинарной классификации и произвольной функции полезности, после чего можно выбирать модель и/или оптимальный порог.\n",
    "\n",
    "### Полезные ссылки:\n",
    "\n",
    "* http://blog.mldb.ai/blog/posts/2016/01/ml-meets-economics/"
   ]
  },
  {
   "cell_type": "markdown",
   "metadata": {},
   "source": [
    "# Задача об отклике клиентов"
   ]
  },
  {
   "cell_type": "markdown",
   "metadata": {},
   "source": [
    "В этом домашнем задании мы поработаем с данными, которые использовались на [старом конкурсе по анализу данных](http://www.machinelearning.ru/wiki/index.php?title=%D0%97%D0%B0%D0%B4%D0%B0%D1%87%D0%B0_%D0%BF%D1%80%D0%B5%D0%B4%D1%81%D0%BA%D0%B0%D0%B7%D0%B0%D0%BD%D0%B8%D1%8F_%D0%BE%D1%82%D0%BA%D0%BB%D0%B8%D0%BA%D0%B0_%D0%BA%D0%BB%D0%B8%D0%B5%D0%BD%D1%82%D0%BE%D0%B2_%D0%9E%D0%A2%D0%9F_%D0%91%D0%B0%D0%BD%D0%BA%D0%B0_%28%D0%BA%D0%BE%D0%BD%D0%BA%D1%83%D1%80%D1%81%29):\n",
    "\n",
    "```\n",
    "Один из способов повышения эффективности взаимодействия банка с клиентами заключается в том, чтобы отправлять предложение о новой услуге не всем клиентам банка, а только некоторой части, выбираемой по принципу наибольшей склонности к отклику на данное предложение.\n",
    "\n",
    "Конкурсное задание заключается в том, чтобы предложить алгоритм, который будет выдавать оценку склонности клиента к положительному отклику по его признаковому описанию. \n",
    "Эта оценка может (хотя и не обязана) интерпретироваться как вероятность положительного отклика. Предполагается, что, получив такие оценки для некоторого множества клиентов, банк обратится с предложением только к тем клиентам, у которых значение оценки выше некоторого порога. \n",
    "\n",
    "Целевая мера качества - ROC-AUC\n",
    "```\n",
    "\n",
    "\n",
    "Я немного перемешал данные и запустил конкурс на Kaggle (ссылка скоро будет). О том, как с ним работать - расскажу на занятии, если будут вопросы."
   ]
  },
  {
   "cell_type": "markdown",
   "metadata": {},
   "source": [
    "## Задайте random seed\n",
    "\n",
    "Это очень важно и нужно для репродуктивности ваших результатов.\n",
    "\n",
    "Используйте заданное значение во всех функциях и методах где есть \"случайность\""
   ]
  },
  {
   "cell_type": "code",
   "execution_count": null,
   "metadata": {
    "collapsed": true
   },
   "outputs": [],
   "source": [
    "RND_SEED = ..."
   ]
  },
  {
   "cell_type": "markdown",
   "metadata": {},
   "source": [
    "## Загрузите данные\n",
    "Исходные данные лежат в excel - для загрузки в pandas есть соответствующая функция.\n",
    "\n",
    "* Поле AGREEMENT_RK - идентификатор пользователя (не забудьте исключить из признаков)\n",
    "* Поле TARGET - целевая переменная\n",
    "* Описание остальных полей можно найти в файле `descr.txt`."
   ]
  },
  {
   "cell_type": "code",
   "execution_count": null,
   "metadata": {
    "collapsed": false
   },
   "outputs": [],
   "source": [
    "## Your Code Here"
   ]
  },
  {
   "cell_type": "markdown",
   "metadata": {},
   "source": [
    "## Предобработка"
   ]
  },
  {
   "cell_type": "markdown",
   "metadata": {},
   "source": [
    "####  Задание\n",
    "\n",
    "Подготовьте процедуры предобработки данных:\n",
    "\n",
    "* Используйте только \"простые\" признаки - все кроме `['EDUCATION', 'FACT_ADDRESS_PROVINCE', 'FAMILY_INCOME', 'GEN_INDUSTRY', 'GEN_TITLE', 'JOB_DIR', 'MARITAL_STATUS', 'ORG_TP_FCAPITAL', 'REGION_NM', 'REG_ADDRESS_PROVINCE', 'ORG_TP_STATE', 'POSTAL_ADDRESS_PROVINCE', 'TP_PROVINCE']`\n",
    "* Заполните пропуски\n",
    "\n",
    "Затем разбейте обработанный `DataFrame` на обучающую и валидационную часть в пропорции 80/20\n",
    "Получите переменные `X_train`, `X_test` - матрицы объект признак, и `y_train`, `y_test` - вектора с ответами."
   ]
  },
  {
   "cell_type": "code",
   "execution_count": null,
   "metadata": {
    "collapsed": false
   },
   "outputs": [],
   "source": [
    "## Your Code Here"
   ]
  },
  {
   "cell_type": "markdown",
   "metadata": {},
   "source": [
    "## Дисбаланс классов - взвешивание"
   ]
  },
  {
   "cell_type": "markdown",
   "metadata": {},
   "source": [
    "Первое, что можно обнаружить - довольно сильный дисбаланс классов.\n",
    "\n",
    "#### Задание\n",
    "\n",
    "Выведите долю объектов положительного класа"
   ]
  },
  {
   "cell_type": "code",
   "execution_count": null,
   "metadata": {
    "collapsed": false
   },
   "outputs": [],
   "source": [
    "## Your Code Here"
   ]
  },
  {
   "cell_type": "markdown",
   "metadata": {},
   "source": [
    "Есть много методов работы с несбалансированной выборкой. Одна группа таких методов - взвешивание объектов обучающей выборки.\n",
    "\n",
    "Каждому объекты присваивается вещественное число - вес объекта. Например, если в данных $r_P/r_N = 1/3$, то каждому объекту из положительного класса присваивается вес $w_P=1$, а объекту отрицательного класса - $w_N=0.333$. Таким образом, один объект положительного класса будет соответствовать трем объектам отрицательного класса.\n",
    "\n",
    "Веса органично встраиваются во многие методы машинного обучения:\n",
    "* В линейной регрессии - взвешивается ошибка на соответствующем объекте\n",
    "* В kNN - модифицируется вклад объекта в предсказание класса\n",
    "* В деревьях решений - модифицируются $p_k$ в мерах неопределенности и в листах\n",
    "* ...\n",
    "\n",
    "Посмотрим, как предсказание случайного леса изменится при такой балансировке:\n",
    "\n",
    "#### Задание\n",
    "\n",
    "Обучите 3 варианта случайного леса с разными способами задания весов:\n",
    "* `class_weight=None`\n",
    "* `class_weight='balanced'`\n",
    "* `class_weight='balanced_subsample'`\n",
    "\n",
    "При этом задайте `max_depth=4`. Для каждой модели выведите гистограмму распределения \"вероятности\" положительного класса на тех же данных. В чем отличие полученных результатов?"
   ]
  },
  {
   "cell_type": "code",
   "execution_count": null,
   "metadata": {
    "collapsed": false
   },
   "outputs": [],
   "source": [
    "## Your Code Here"
   ]
  },
  {
   "cell_type": "markdown",
   "metadata": {},
   "source": [
    "P.S.\n",
    "\n",
    "* Такая балансировка иногда может улучить результаты метода машинного обучения - если не с точки зрения меры качества (на AUC может влиять слабо), то хотя бы с точки зрения адекватности предсказания.\n",
    "* Вы можете вводить произвольные веса объектов с помощью аргумента  `sample_weight` в методе `.fit()`.\n"
   ]
  },
  {
   "cell_type": "markdown",
   "metadata": {},
   "source": [
    "### Дисбаланс классов - кросс-валидация\n",
    "\n",
    "В sklearn есть [много](http://scikit-learn.org/stable/modules/classes.html#splitter-classes) способов делить данные для кросс-валидации. Сейчас мы рассмотрим 2: обычный `KFold` и `StratifiedKFold`. Особенность последнего заключается в том, что в каждом фолде, пропорция классов в обучающей валидационной частях будет одинаковой.\n",
    "\n",
    "#### Задание\n",
    "\n",
    "Проверьте, что пропорции классов в `KFold` разные, а в `StratifiedKFold` одинаковы (незначительно отличаются)."
   ]
  },
  {
   "cell_type": "code",
   "execution_count": null,
   "metadata": {
    "collapsed": true
   },
   "outputs": [],
   "source": [
    "try:\n",
    "    from sklearn.model_selection import StratifiedKFold, KFold\n",
    "except ImportError:\n",
    "    from sklearn.cross_validation import StratifiedKFold, KFold"
   ]
  },
  {
   "cell_type": "code",
   "execution_count": null,
   "metadata": {
    "collapsed": true
   },
   "outputs": [],
   "source": [
    "## Your Code Here"
   ]
  },
  {
   "cell_type": "markdown",
   "metadata": {},
   "source": [
    "## Оценка гипер-параметров"
   ]
  },
  {
   "cell_type": "markdown",
   "metadata": {},
   "source": [
    "#### Задание\n",
    "\n",
    "* С помощью `RandomSearchCV` или `GridSearchCV` подберите гиперпараметры случайного леса на `X_train`\n",
    "* Сравните полученное значение `roc-auc` \n",
    "    * при кросс-валидации c выбранными вами гиперпараметрами\n",
    "    * при валидации на `X_test`. <br/>Они должны получится похожими\n",
    "* Сравните полученное значение `roc-auc` на `X_train` и `X_test`, постройте roc-кривые. Скорее всего значение на `X_train` будет значительно (примерно на 0.2) выше. Это признаки переобучения (Если вы ничего похожего не замечаете - вам повезло =) )\n",
    "\n",
    "Тут возникает двоякая ситуация. С одной стороны, кросс-валидационная (и оценка на `X_test`) модели максимальна, но модель явно переобучена. В \"продакшн\" такую модель выдавать опасано, но на конкурсе она может оказаться одной из лучших..\n",
    "\n",
    "Если переобучение для вас критично - понижайте сложность модели (для случайного леса это следующие параметры: глубина, количество деревьев, количество признаков, критерии ветвления)"
   ]
  },
  {
   "cell_type": "code",
   "execution_count": null,
   "metadata": {
    "collapsed": true
   },
   "outputs": [],
   "source": [
    "## Your Code Here"
   ]
  },
  {
   "cell_type": "markdown",
   "metadata": {},
   "source": [
    "## Важность признаков\n",
    "\n",
    "#### Задание\n",
    "Выведите важность признаков выбранной модели"
   ]
  },
  {
   "cell_type": "code",
   "execution_count": null,
   "metadata": {
    "collapsed": true
   },
   "outputs": [],
   "source": [
    "## Your Code Here"
   ]
  },
  {
   "cell_type": "markdown",
   "metadata": {},
   "source": [
    "## Добавление остальных признаков"
   ]
  },
  {
   "cell_type": "markdown",
   "metadata": {},
   "source": [
    "#### Задание\n",
    "\n",
    "Подготовте процедуры, дополнительно включающие предобработку признаков, которые были ранее исключены.\n",
    "\n",
    "Обратите внимание, что не для всего обязательно делать OneHotEncoding: например, для уровня образования или уровня дохода семьи достаточно (для деревьев) упорядочить категории и присвоить каждой из них \"позицию\" в этом ранжировании:\n",
    "\n",
    "`EDUCATION: \n",
    "(Неполное среднее < Среднее < Среднее специальное < Неоконченное высшее < Высшее < Два и более высших образования < Ученая степень) <=>\n",
    "(0 < 1 < 2 < 3 < 4 < 5 < 6)`\n",
    "\n",
    "* Все категориальные переменные включать необязательно\n",
    "* Изменяйте категориальные переменные, например заменяйте редкие категории на \"Другое\", чтобы избежать переобучения"
   ]
  },
  {
   "cell_type": "code",
   "execution_count": null,
   "metadata": {
    "collapsed": true
   },
   "outputs": [],
   "source": [
    "## Your Code Here"
   ]
  },
  {
   "cell_type": "markdown",
   "metadata": {},
   "source": [
    "## Подбор гиперпараметров и подготовка файла с ответами\n",
    "#### Задание\n",
    "\n",
    "* Подберите гиперпараметры модели\n",
    "* Загрузите файл `data_test_nolabel.xlsx`\n",
    "* Используйте написанные процедуры для предобработки этой таблицы\n",
    "* Примените обученную модель на навых данных и подготовьте файл следующего формата:\n",
    "\n",
    "`\n",
    "AGREEMENT_RK,TARGET\n",
    "13408,0.1\n",
    "6132,0.4\n",
    "10826,0.4\n",
    "`\n",
    "\n",
    "* Загрузите файл на страницу соревнования (скоро будет ссылка)\n",
    "* Рвитесь к победе =)"
   ]
  },
  {
   "cell_type": "code",
   "execution_count": null,
   "metadata": {
    "collapsed": true
   },
   "outputs": [],
   "source": [
    "## Your Code Here"
   ]
  }
 ],
 "metadata": {
  "anaconda-cloud": {},
  "kernelspec": {
   "display_name": "Python [conda root]",
   "language": "python",
   "name": "conda-root-py"
  },
  "language_info": {
   "codemirror_mode": {
    "name": "ipython",
    "version": 2
   },
   "file_extension": ".py",
   "mimetype": "text/x-python",
   "name": "python",
   "nbconvert_exporter": "python",
   "pygments_lexer": "ipython2",
   "version": "2.7.12"
  },
  "nav_menu": {},
  "toc": {
   "navigate_menu": true,
   "number_sections": false,
   "sideBar": true,
   "threshold": 6,
   "toc_cell": false,
   "toc_section_display": "block",
   "toc_window_display": true
  }
 },
 "nbformat": 4,
 "nbformat_minor": 2
}
