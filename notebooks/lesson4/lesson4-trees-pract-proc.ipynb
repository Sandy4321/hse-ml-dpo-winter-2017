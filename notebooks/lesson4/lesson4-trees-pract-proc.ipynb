{
 "cells": [
  {
   "cell_type": "markdown",
   "metadata": {},
   "source": [
    "# Машинное обучение и майнинг данных\n",
    "## 09/02/2017 Деревья решений, подбор параметров с помощью кросс-валидации"
   ]
  },
  {
   "cell_type": "code",
   "execution_count": 1,
   "metadata": {
    "collapsed": false
   },
   "outputs": [],
   "source": [
    "import pandas as pd\n",
    "import numpy as np\n",
    "import matplotlib.pyplot as plt\n",
    "\n",
    "%matplotlib inline\n",
    "\n",
    "plt.style.use('ggplot')\n",
    "plt.rcParams['figure.figsize'] = (16,8)\n",
    "\n",
    "# Для кириллицы на графиках\n",
    "font = {'family': 'Verdana',\n",
    "        'weight': 'normal'}\n",
    "plt.rc('font', **font)"
   ]
  },
  {
   "cell_type": "markdown",
   "metadata": {
    "collapsed": true
   },
   "source": [
    "# Регрессия"
   ]
  },
  {
   "cell_type": "code",
   "execution_count": 2,
   "metadata": {
    "collapsed": true
   },
   "outputs": [],
   "source": [
    "from sklearn.tree import DecisionTreeRegressor\n",
    "from sklearn.ensemble import RandomForestRegressor\n",
    "from sklearn.metrics import mean_absolute_error\n",
    "from sklearn.metrics import median_absolute_error"
   ]
  },
  {
   "cell_type": "markdown",
   "metadata": {},
   "source": [
    "Рассмотрим данные по характеристикам автомобилей Honda Accord. Названия столбцов говорят сами за себя ([обучение](http://bit.ly/1gIQs6C), [тест](http://bit.ly/IYPHrK)). \n"
   ]
  },
  {
   "cell_type": "code",
   "execution_count": 3,
   "metadata": {
    "collapsed": false
   },
   "outputs": [
    {
     "data": {
      "text/html": [
       "<div>\n",
       "<table border=\"1\" class=\"dataframe\">\n",
       "  <thead>\n",
       "    <tr style=\"text-align: right;\">\n",
       "      <th></th>\n",
       "      <th>price</th>\n",
       "      <th>mileage</th>\n",
       "      <th>year</th>\n",
       "      <th>trim</th>\n",
       "      <th>engine</th>\n",
       "      <th>transmission</th>\n",
       "    </tr>\n",
       "  </thead>\n",
       "  <tbody>\n",
       "    <tr>\n",
       "      <th>0</th>\n",
       "      <td>14995</td>\n",
       "      <td>67697</td>\n",
       "      <td>2006</td>\n",
       "      <td>ex</td>\n",
       "      <td>4 Cyl</td>\n",
       "      <td>Manual</td>\n",
       "    </tr>\n",
       "    <tr>\n",
       "      <th>1</th>\n",
       "      <td>11988</td>\n",
       "      <td>73738</td>\n",
       "      <td>2006</td>\n",
       "      <td>ex</td>\n",
       "      <td>4 Cyl</td>\n",
       "      <td>Manual</td>\n",
       "    </tr>\n",
       "    <tr>\n",
       "      <th>2</th>\n",
       "      <td>11999</td>\n",
       "      <td>80313</td>\n",
       "      <td>2006</td>\n",
       "      <td>lx</td>\n",
       "      <td>4 Cyl</td>\n",
       "      <td>Automatic</td>\n",
       "    </tr>\n",
       "    <tr>\n",
       "      <th>3</th>\n",
       "      <td>12995</td>\n",
       "      <td>86096</td>\n",
       "      <td>2006</td>\n",
       "      <td>lx</td>\n",
       "      <td>4 Cyl</td>\n",
       "      <td>Automatic</td>\n",
       "    </tr>\n",
       "    <tr>\n",
       "      <th>4</th>\n",
       "      <td>11333</td>\n",
       "      <td>79607</td>\n",
       "      <td>2006</td>\n",
       "      <td>lx</td>\n",
       "      <td>4 Cyl</td>\n",
       "      <td>Automatic</td>\n",
       "    </tr>\n",
       "  </tbody>\n",
       "</table>\n",
       "</div>"
      ],
      "text/plain": [
       "   price  mileage  year trim engine transmission\n",
       "0  14995    67697  2006   ex  4 Cyl       Manual\n",
       "1  11988    73738  2006   ex  4 Cyl       Manual\n",
       "2  11999    80313  2006   lx  4 Cyl    Automatic\n",
       "3  12995    86096  2006   lx  4 Cyl    Automatic\n",
       "4  11333    79607  2006   lx  4 Cyl    Automatic"
      ]
     },
     "execution_count": 3,
     "metadata": {},
     "output_type": "execute_result"
    }
   ],
   "source": [
    "df_train = pd.read_csv('http://bit.ly/1gIQs6C')\n",
    "df_test = pd.read_csv('http://bit.ly/IYPHrK')\n",
    "df_train.head()"
   ]
  },
  {
   "cell_type": "markdown",
   "metadata": {},
   "source": [
    "Постараемся сделать следующее:\n",
    "* Мы подготовим процедуры автоматической обработки таблиц\n",
    "* С помощью кросс-валидации определим хорошие гиперпараметры для модели\n",
    "\n",
    "Метрика качества **среднее абсолютное** отклонение"
   ]
  },
  {
   "cell_type": "markdown",
   "metadata": {},
   "source": [
    "## Подготовим процедуры"
   ]
  },
  {
   "cell_type": "markdown",
   "metadata": {},
   "source": [
    "Необходимо убрать ненужные переменные, перевести все в формат, подходящий для дерева.\n",
    "\n",
    "Помочь может метод `df.pipe(function)`."
   ]
  },
  {
   "cell_type": "code",
   "execution_count": 4,
   "metadata": {
    "collapsed": false
   },
   "outputs": [
    {
     "data": {
      "text/plain": [
       "array([2006])"
      ]
     },
     "execution_count": 4,
     "metadata": {},
     "output_type": "execute_result"
    }
   ],
   "source": [
    "df_train.year.unique()\n",
    "\n",
    "# Можно выбросить"
   ]
  },
  {
   "cell_type": "code",
   "execution_count": 5,
   "metadata": {
    "collapsed": false
   },
   "outputs": [
    {
     "data": {
      "text/plain": [
       "<matplotlib.axes._subplots.AxesSubplot at 0x10ec83b50>"
      ]
     },
     "execution_count": 5,
     "metadata": {},
     "output_type": "execute_result"
    },
    {
     "data": {
      "image/png": "[encoded data removed]",
      "text/plain": [
       "<matplotlib.figure.Figure at 0x1045ae610>"
      ]
     },
     "metadata": {},
     "output_type": "display_data"
    }
   ],
   "source": [
    "df_train.plot(y='price', x='mileage', kind='scatter', s=120)"
   ]
  },
  {
   "cell_type": "code",
   "execution_count": 6,
   "metadata": {
    "collapsed": false
   },
   "outputs": [
    {
     "data": {
      "text/html": [
       "<div>\n",
       "<table border=\"1\" class=\"dataframe\">\n",
       "  <thead>\n",
       "    <tr style=\"text-align: right;\">\n",
       "      <th></th>\n",
       "      <th>price</th>\n",
       "      <th>mileage</th>\n",
       "      <th>year</th>\n",
       "      <th>trim</th>\n",
       "      <th>engine</th>\n",
       "      <th>transmission</th>\n",
       "    </tr>\n",
       "  </thead>\n",
       "  <tbody>\n",
       "    <tr>\n",
       "      <th>0</th>\n",
       "      <td>14995</td>\n",
       "      <td>67697</td>\n",
       "      <td>2006</td>\n",
       "      <td>ex</td>\n",
       "      <td>4 Cyl</td>\n",
       "      <td>Manual</td>\n",
       "    </tr>\n",
       "    <tr>\n",
       "      <th>1</th>\n",
       "      <td>11988</td>\n",
       "      <td>73738</td>\n",
       "      <td>2006</td>\n",
       "      <td>ex</td>\n",
       "      <td>4 Cyl</td>\n",
       "      <td>Manual</td>\n",
       "    </tr>\n",
       "    <tr>\n",
       "      <th>2</th>\n",
       "      <td>11999</td>\n",
       "      <td>80313</td>\n",
       "      <td>2006</td>\n",
       "      <td>lx</td>\n",
       "      <td>4 Cyl</td>\n",
       "      <td>Automatic</td>\n",
       "    </tr>\n",
       "    <tr>\n",
       "      <th>3</th>\n",
       "      <td>12995</td>\n",
       "      <td>86096</td>\n",
       "      <td>2006</td>\n",
       "      <td>lx</td>\n",
       "      <td>4 Cyl</td>\n",
       "      <td>Automatic</td>\n",
       "    </tr>\n",
       "    <tr>\n",
       "      <th>4</th>\n",
       "      <td>11333</td>\n",
       "      <td>79607</td>\n",
       "      <td>2006</td>\n",
       "      <td>lx</td>\n",
       "      <td>4 Cyl</td>\n",
       "      <td>Automatic</td>\n",
       "    </tr>\n",
       "  </tbody>\n",
       "</table>\n",
       "</div>"
      ],
      "text/plain": [
       "   price  mileage  year trim engine transmission\n",
       "0  14995    67697  2006   ex  4 Cyl       Manual\n",
       "1  11988    73738  2006   ex  4 Cyl       Manual\n",
       "2  11999    80313  2006   lx  4 Cyl    Automatic\n",
       "3  12995    86096  2006   lx  4 Cyl    Automatic\n",
       "4  11333    79607  2006   lx  4 Cyl    Automatic"
      ]
     },
     "execution_count": 6,
     "metadata": {},
     "output_type": "execute_result"
    }
   ],
   "source": [
    "\n",
    "df_train.head()"
   ]
  },
  {
   "cell_type": "code",
   "execution_count": 7,
   "metadata": {
    "collapsed": false
   },
   "outputs": [],
   "source": [
    "def preprocess_dataframe(df_input):\n",
    "\n",
    "    df = df_input.copy()\n",
    "\n",
    "    # Выкинуть year\n",
    "    df = df.drop('year', axis=1)\n",
    "\n",
    "    # Преобразовать trim и engine,и transmission в нужный формат\n",
    "    df = df.join(pd.get_dummies(df.loc[:, 'trim'], prefix='trim'))\n",
    "    df = df.drop('trim', axis=1)\n",
    "\n",
    "    df.loc[:, 'transmission'] = df.loc[:, 'transmission'].replace({'Manual': 1,\n",
    "                                                                   'Automatic': 0})\n",
    "    \n",
    "    # Для дерева решений все одинаково\n",
    "    df.loc[:, 'engine'] = df.loc[:, 'engine'].str.split(' ')\\\n",
    "                                             .str.get(0)\\\n",
    "                                             .astype(int)\n",
    "            \n",
    "    return df\n",
    "\n",
    "# Запускаем pipe\n",
    "df_train_preproc = df_train.pipe(preprocess_dataframe)\n",
    "df_test_preproc = df_test.pipe(preprocess_dataframe)"
   ]
  },
  {
   "cell_type": "markdown",
   "metadata": {},
   "source": [
    "## Кросс-валидация по одному гиперпараметру"
   ]
  },
  {
   "cell_type": "markdown",
   "metadata": {},
   "source": [
    "Посмотрим, что делает функция `validation_curve`."
   ]
  },
  {
   "cell_type": "code",
   "execution_count": 8,
   "metadata": {
    "collapsed": false
   },
   "outputs": [
    {
     "data": {
      "text/html": [
       "<div>\n",
       "<table border=\"1\" class=\"dataframe\">\n",
       "  <thead>\n",
       "    <tr style=\"text-align: right;\">\n",
       "      <th></th>\n",
       "      <th>price</th>\n",
       "      <th>mileage</th>\n",
       "      <th>engine</th>\n",
       "      <th>transmission</th>\n",
       "      <th>trim_ex</th>\n",
       "      <th>trim_exl</th>\n",
       "      <th>trim_lx</th>\n",
       "    </tr>\n",
       "  </thead>\n",
       "  <tbody>\n",
       "    <tr>\n",
       "      <th>0</th>\n",
       "      <td>12995</td>\n",
       "      <td>68265</td>\n",
       "      <td>4</td>\n",
       "      <td>0</td>\n",
       "      <td>1</td>\n",
       "      <td>0</td>\n",
       "      <td>0</td>\n",
       "    </tr>\n",
       "    <tr>\n",
       "      <th>1</th>\n",
       "      <td>9690</td>\n",
       "      <td>92778</td>\n",
       "      <td>4</td>\n",
       "      <td>0</td>\n",
       "      <td>1</td>\n",
       "      <td>0</td>\n",
       "      <td>0</td>\n",
       "    </tr>\n",
       "    <tr>\n",
       "      <th>2</th>\n",
       "      <td>8995</td>\n",
       "      <td>136000</td>\n",
       "      <td>4</td>\n",
       "      <td>0</td>\n",
       "      <td>1</td>\n",
       "      <td>0</td>\n",
       "      <td>0</td>\n",
       "    </tr>\n",
       "    <tr>\n",
       "      <th>3</th>\n",
       "      <td>11995</td>\n",
       "      <td>72765</td>\n",
       "      <td>6</td>\n",
       "      <td>0</td>\n",
       "      <td>0</td>\n",
       "      <td>0</td>\n",
       "      <td>1</td>\n",
       "    </tr>\n",
       "    <tr>\n",
       "      <th>4</th>\n",
       "      <td>17999</td>\n",
       "      <td>36448</td>\n",
       "      <td>6</td>\n",
       "      <td>0</td>\n",
       "      <td>1</td>\n",
       "      <td>0</td>\n",
       "      <td>0</td>\n",
       "    </tr>\n",
       "  </tbody>\n",
       "</table>\n",
       "</div>"
      ],
      "text/plain": [
       "   price  mileage  engine  transmission  trim_ex  trim_exl  trim_lx\n",
       "0  12995    68265       4             0        1         0        0\n",
       "1   9690    92778       4             0        1         0        0\n",
       "2   8995   136000       4             0        1         0        0\n",
       "3  11995    72765       6             0        0         0        1\n",
       "4  17999    36448       6             0        1         0        0"
      ]
     },
     "execution_count": 8,
     "metadata": {},
     "output_type": "execute_result"
    }
   ],
   "source": [
    "df_test_preproc.head()"
   ]
  },
  {
   "cell_type": "code",
   "execution_count": 9,
   "metadata": {
    "collapsed": true
   },
   "outputs": [],
   "source": [
    "X_train, y_train = df_train_preproc.iloc[:, 1:].values, df_train_preproc.iloc[:, 0].values"
   ]
  },
  {
   "cell_type": "code",
   "execution_count": 12,
   "metadata": {
    "collapsed": true
   },
   "outputs": [],
   "source": [
    "try:\n",
    "    from sklearn.model_selection import validation_curve\n",
    "except ImportError:\n",
    "    from sklearn.learning_curve import validation_curve"
   ]
  },
  {
   "cell_type": "markdown",
   "metadata": {},
   "source": [
    "Построим валидационные кривые по параметру глубина дерева (`max_depth`). Все остальные параметры зафиксированны по-умолчанию."
   ]
  },
  {
   "cell_type": "code",
   "execution_count": 11,
   "metadata": {
    "collapsed": false
   },
   "outputs": [],
   "source": [
    "model = DecisionTreeRegressor(random_state=123)\n",
    "\n",
    "train_scores, valid_scores = validation_curve(model, X_train, y_train, \n",
    "                                              'max_depth', range(1, 10),\n",
    "                                              cv=5, scoring='neg_mean_absolute_error')"
   ]
  },
  {
   "cell_type": "code",
   "execution_count": 13,
   "metadata": {
    "collapsed": false
   },
   "outputs": [
    {
     "data": {
      "text/plain": [
       "<matplotlib.text.Text at 0x11225e390>"
      ]
     },
     "execution_count": 13,
     "metadata": {},
     "output_type": "execute_result"
    },
    {
     "data": {
      "image/png": "[encoded data removed]",
      "text/plain": [
       "<matplotlib.figure.Figure at 0x112241f50>"
      ]
     },
     "metadata": {},
     "output_type": "display_data"
    }
   ],
   "source": [
    "train_score_mean = -train_scores.mean(axis=1)\n",
    "train_score_std = train_scores.std(axis=1)\n",
    "valid_scores_mean = -valid_scores.mean(axis=1)\n",
    "valid_scores_std = valid_scores.std(axis=1)\n",
    "\n",
    "plt.fill_between(range(1,10), train_score_mean-train_score_std, train_score_mean+train_score_std, \n",
    "                 interpolate=True, alpha=0.5,)\n",
    "plt.fill_between(range(1,10), valid_scores_mean-valid_scores_std, valid_scores_mean+valid_scores_std, color='r', \n",
    "                 interpolate=True, alpha=0.5)\n",
    "\n",
    "plt.plot(range(1,10), train_score_mean, c='b', lw=2)\n",
    "plt.plot(range(1,10), valid_scores_mean, c='r', lw=2)\n",
    "\n",
    "plt.xlabel('max depth')\n",
    "plt.ylabel('mean absolute error')"
   ]
  },
  {
   "cell_type": "markdown",
   "metadata": {},
   "source": [
    "Мы видем, что на глубине дерева 3-5 ошибка на валидационном множестве минимальна, а затем начинает возрастать.\n",
    "\n",
    "Ошибка же на обучающем множестве падает постоянно. \n",
    "\n",
    "При прочих равных, стоит выбрать глубину 3, так как ошибка минимальная и при этом сложность модели не такая высокая как при глубине 4-5."
   ]
  },
  {
   "cell_type": "markdown",
   "metadata": {},
   "source": [
    "## Подбор всех гиперпараметров\n",
    "\n",
    "Почему случайный поиск лучше перебора:"
   ]
  },
  {
   "cell_type": "markdown",
   "metadata": {},
   "source": [
    "<center><img src='https://cdn-images-1.medium.com/max/800/1*ZTlQm_WRcrNqL-nLnx6GJA.png'></center>"
   ]
  },
  {
   "cell_type": "code",
   "execution_count": 14,
   "metadata": {
    "collapsed": true
   },
   "outputs": [],
   "source": [
    "from scipy.stats import randint as randint\n",
    "from scipy.stats import uniform\n",
    "try:\n",
    "    from sklearn.model_selection import GridSearchCV\n",
    "    from sklearn.model_selection import RandomizedSearchCV\n",
    "except ImportError:\n",
    "    from sklearn.cross_validation import GridSearchCV\n",
    "    from sklearn.cross_validation import RandomizedSearchCV\n",
    "\n",
    "\n",
    "RND_SEED = 123"
   ]
  },
  {
   "cell_type": "markdown",
   "metadata": {},
   "source": [
    "Теперь мы переключимся на случайный лес и запустим `RandomizedSearchCV` для подбора гиперпараметров."
   ]
  },
  {
   "cell_type": "code",
   "execution_count": 15,
   "metadata": {
    "collapsed": false
   },
   "outputs": [
    {
     "data": {
      "text/plain": [
       "RandomizedSearchCV(cv=5, error_score='raise',\n",
       "          estimator=RandomForestRegressor(bootstrap=True, criterion='mse', max_depth=None,\n",
       "           max_features='auto', max_leaf_nodes=None,\n",
       "           min_impurity_split=1e-07, min_samples_leaf=1,\n",
       "           min_samples_split=2, min_weight_fraction_leaf=0.0,\n",
       "           n_estimators=10, n_jobs=1, oob_score=False, random_state=123,\n",
       "           verbose=0, warm_start=False),\n",
       "          fit_params={}, iid=True, n_iter=200, n_jobs=4,\n",
       "          param_distributions={'bootstrap': [True, False], 'n_estimators': <scipy.stats._distn_infrastructure.rv_frozen object at 0x10ec78e10>, 'min_samples_split': <scipy.stats._distn_infrastructure.rv_frozen object at 0x112254450>, 'criterion': ['mse', 'mae'], 'max_features': ['auto', 2], 'max_depth': <scipy.stats._distn_infrastructure.rv_frozen object at 0x112254050>},\n",
       "          pre_dispatch='2*n_jobs', random_state=123, refit=True,\n",
       "          return_train_score=True, scoring='neg_mean_absolute_error',\n",
       "          verbose=0)"
      ]
     },
     "execution_count": 15,
     "metadata": {},
     "output_type": "execute_result"
    }
   ],
   "source": [
    "# Определим пространство поиска\n",
    "\n",
    "param_grid = {\n",
    "    'n_estimators': randint(20, 100), # У нас не так много данных, этого достаточно\n",
    "    'criterion': ['mse', 'mae'],\n",
    "    'max_depth': randint(2, 8),\n",
    "    'max_features': ['auto', 2],\n",
    "    'min_samples_split': uniform(0, 0.1),\n",
    "    'bootstrap': [True, False]}\n",
    "\n",
    "# Некоторые параметры мы задали не простым перечислением значений, а \n",
    "# с помощью распределений.\n",
    "\n",
    "# Будем делать 200 запусков поиска\n",
    "# Можно пойти пить кофе =)\n",
    "model = RandomForestRegressor(random_state=123)\n",
    "random_search = RandomizedSearchCV(model, param_distributions=param_grid, n_iter=200, n_jobs=4,\n",
    "                                   cv=5, scoring='neg_mean_absolute_error', random_state=123)\n",
    "# А дальше, просто .fit()\n",
    "random_search.fit(X_train, y_train)"
   ]
  },
  {
   "cell_type": "code",
   "execution_count": 18,
   "metadata": {
    "collapsed": false
   },
   "outputs": [
    {
     "name": "stdout",
     "output_type": "stream",
     "text": [
      "Лучшая оценка качества (по кросс-валидации): 1100.084957\n"
     ]
    }
   ],
   "source": [
    "print 'Лучшая оценка качества (по кросс-валидации): %f' % (- random_search.best_score_)"
   ]
  },
  {
   "cell_type": "code",
   "execution_count": 19,
   "metadata": {
    "collapsed": false
   },
   "outputs": [
    {
     "name": "stdout",
     "output_type": "stream",
     "text": [
      "Лучше параметры:\n"
     ]
    },
    {
     "data": {
      "text/plain": [
       "{'bootstrap': True,\n",
       " 'criterion': 'mse',\n",
       " 'max_depth': 7,\n",
       " 'max_features': 2,\n",
       " 'min_samples_split': 0.0066774443225004702,\n",
       " 'n_estimators': 20}"
      ]
     },
     "execution_count": 19,
     "metadata": {},
     "output_type": "execute_result"
    }
   ],
   "source": [
    "print 'Лучше параметры:'\n",
    "random_search.best_params_"
   ]
  },
  {
   "cell_type": "code",
   "execution_count": 20,
   "metadata": {
    "collapsed": false
   },
   "outputs": [
    {
     "name": "stderr",
     "output_type": "stream",
     "text": [
      "/Users/andrey.shestakov/anaconda2/lib/python2.7/site-packages/sklearn/model_selection/_search.py:667: DeprecationWarning: The grid_scores_ attribute was deprecated in version 0.18 in favor of the more elaborate cv_results_ attribute. The grid_scores_ attribute will not be available from 0.20\n",
      "  DeprecationWarning)\n"
     ]
    }
   ],
   "source": [
    "# Можно составить DataFrame со значениями параметров и усредненной оценкой качества на них\n",
    "try:\n",
    "    grid = random_search.grid_scores_\n",
    "except:\n",
    "    grid = random_search.cv_results_"
   ]
  },
  {
   "cell_type": "code",
   "execution_count": 21,
   "metadata": {
    "collapsed": false
   },
   "outputs": [],
   "source": [
    "df_grid = pd.DataFrame.from_dict([e.parameters for e in grid])\n",
    "df_grid.loc[:, 'cv_mean_scores'] = [-e.mean_validation_score for e in grid]\n",
    "df_grid.loc[:, 'cv_std_scores'] = [np.std(e.cv_validation_scores) for e in grid]\n",
    "df_grid = df_grid.sort_values('cv_mean_scores', ascending=True)"
   ]
  },
  {
   "cell_type": "code",
   "execution_count": 22,
   "metadata": {
    "collapsed": false
   },
   "outputs": [
    {
     "data": {
      "text/html": [
       "<div>\n",
       "<table border=\"1\" class=\"dataframe\">\n",
       "  <thead>\n",
       "    <tr style=\"text-align: right;\">\n",
       "      <th></th>\n",
       "      <th>bootstrap</th>\n",
       "      <th>criterion</th>\n",
       "      <th>max_depth</th>\n",
       "      <th>max_features</th>\n",
       "      <th>min_samples_split</th>\n",
       "      <th>n_estimators</th>\n",
       "      <th>cv_mean_scores</th>\n",
       "      <th>cv_std_scores</th>\n",
       "    </tr>\n",
       "  </thead>\n",
       "  <tbody>\n",
       "    <tr>\n",
       "      <th>49</th>\n",
       "      <td>True</td>\n",
       "      <td>mse</td>\n",
       "      <td>7</td>\n",
       "      <td>2</td>\n",
       "      <td>0.006677</td>\n",
       "      <td>20</td>\n",
       "      <td>1100.084957</td>\n",
       "      <td>83.519217</td>\n",
       "    </tr>\n",
       "    <tr>\n",
       "      <th>40</th>\n",
       "      <td>True</td>\n",
       "      <td>mse</td>\n",
       "      <td>7</td>\n",
       "      <td>auto</td>\n",
       "      <td>0.069631</td>\n",
       "      <td>45</td>\n",
       "      <td>1100.973281</td>\n",
       "      <td>72.009908</td>\n",
       "    </tr>\n",
       "    <tr>\n",
       "      <th>190</th>\n",
       "      <td>True</td>\n",
       "      <td>mse</td>\n",
       "      <td>6</td>\n",
       "      <td>auto</td>\n",
       "      <td>0.064479</td>\n",
       "      <td>88</td>\n",
       "      <td>1103.310346</td>\n",
       "      <td>74.991550</td>\n",
       "    </tr>\n",
       "    <tr>\n",
       "      <th>54</th>\n",
       "      <td>True</td>\n",
       "      <td>mse</td>\n",
       "      <td>5</td>\n",
       "      <td>auto</td>\n",
       "      <td>0.049620</td>\n",
       "      <td>27</td>\n",
       "      <td>1105.854929</td>\n",
       "      <td>79.910958</td>\n",
       "    </tr>\n",
       "    <tr>\n",
       "      <th>168</th>\n",
       "      <td>True</td>\n",
       "      <td>mse</td>\n",
       "      <td>5</td>\n",
       "      <td>auto</td>\n",
       "      <td>0.030637</td>\n",
       "      <td>38</td>\n",
       "      <td>1107.162950</td>\n",
       "      <td>74.381732</td>\n",
       "    </tr>\n",
       "  </tbody>\n",
       "</table>\n",
       "</div>"
      ],
      "text/plain": [
       "    bootstrap criterion  max_depth max_features  min_samples_split  \\\n",
       "49       True       mse          7            2           0.006677   \n",
       "40       True       mse          7         auto           0.069631   \n",
       "190      True       mse          6         auto           0.064479   \n",
       "54       True       mse          5         auto           0.049620   \n",
       "168      True       mse          5         auto           0.030637   \n",
       "\n",
       "     n_estimators  cv_mean_scores  cv_std_scores  \n",
       "49             20     1100.084957      83.519217  \n",
       "40             45     1100.973281      72.009908  \n",
       "190            88     1103.310346      74.991550  \n",
       "54             27     1105.854929      79.910958  \n",
       "168            38     1107.162950      74.381732  "
      ]
     },
     "execution_count": 22,
     "metadata": {},
     "output_type": "execute_result"
    }
   ],
   "source": [
    "df_grid.head()"
   ]
  },
  {
   "cell_type": "markdown",
   "metadata": {},
   "source": [
    "В данном случае, я бы выбрал 4 или 5 результат - сложность модели будет пониже, а в качестве уступает незначительно.\n",
    "\n",
    "Но мы запомним эти, а возьмем все-таки первую модель.\n",
    "\n",
    "Обратите внимание, что в топе нет ни одной модели с целевым критерием mae. Часто бывает, что функция оптимизации и функция метрики совпадают, но результаты могут быть хуже, чем если они отличаются.\n"
   ]
  },
  {
   "cell_type": "code",
   "execution_count": 23,
   "metadata": {
    "collapsed": true
   },
   "outputs": [],
   "source": [
    "best_model = random_search.best_estimator_\n",
    "\n",
    "# Отдельный fit для лучшей модели не требуется - после RandomizedSearchCV с кросс-валидацией модель \n",
    "# обучается на всех данных из train set"
   ]
  },
  {
   "cell_type": "markdown",
   "metadata": {},
   "source": [
    "## Важность признаков"
   ]
  },
  {
   "cell_type": "code",
   "execution_count": 24,
   "metadata": {
    "collapsed": false
   },
   "outputs": [
    {
     "data": {
      "text/plain": [
       "array([ 0.80954382,  0.06336607,  0.02854241,  0.03401003,  0.00781585,\n",
       "        0.05672182])"
      ]
     },
     "execution_count": 24,
     "metadata": {},
     "output_type": "execute_result"
    }
   ],
   "source": [
    "best_model.feature_importances_"
   ]
  },
  {
   "cell_type": "code",
   "execution_count": 25,
   "metadata": {
    "collapsed": true
   },
   "outputs": [],
   "source": [
    "importances = pd.Series(data=best_model.feature_importances_, \n",
    "                        index=df_test_preproc.columns[1:])\\\n",
    "                .sort_values()"
   ]
  },
  {
   "cell_type": "code",
   "execution_count": 26,
   "metadata": {
    "collapsed": false
   },
   "outputs": [
    {
     "data": {
      "text/plain": [
       "<matplotlib.axes._subplots.AxesSubplot at 0x1127e9590>"
      ]
     },
     "execution_count": 26,
     "metadata": {},
     "output_type": "execute_result"
    },
    {
     "data": {
      "image/png": "[encoded data removed]",
      "text/plain": [
       "<matplotlib.figure.Figure at 0x112317450>"
      ]
     },
     "metadata": {},
     "output_type": "display_data"
    }
   ],
   "source": [
    "importances.plot(kind='barh')"
   ]
  },
  {
   "cell_type": "markdown",
   "metadata": {},
   "source": [
    "Как и можно было ожидать - пробег оказывает наибольшее влияние на целевую переменную."
   ]
  },
  {
   "cell_type": "markdown",
   "metadata": {},
   "source": [
    "## Тестирование\n",
    "Выберем лучший набор параметров, посмотрим, как алгоритм работает на тесте.\n",
    "\n",
    "Также смухлюем и посмотрим другие наборы гиперпараметров"
   ]
  },
  {
   "cell_type": "code",
   "execution_count": 27,
   "metadata": {
    "collapsed": true
   },
   "outputs": [],
   "source": [
    "X_test, y_test = df_test_preproc.iloc[:, 1:].values, df_test_preproc.iloc[:, 0].values"
   ]
  },
  {
   "cell_type": "code",
   "execution_count": 28,
   "metadata": {
    "collapsed": true
   },
   "outputs": [],
   "source": [
    "y_hat = best_model.predict(X_test)"
   ]
  },
  {
   "cell_type": "code",
   "execution_count": 29,
   "metadata": {
    "collapsed": false
   },
   "outputs": [
    {
     "data": {
      "text/plain": [
       "1166.2882473140019"
      ]
     },
     "execution_count": 29,
     "metadata": {},
     "output_type": "execute_result"
    }
   ],
   "source": [
    "test_score = mean_absolute_error(y_hat, y_test)\n",
    "test_score"
   ]
  },
  {
   "cell_type": "markdown",
   "metadata": {},
   "source": [
    "Проверим, как дела у 5й по качеству модели:"
   ]
  },
  {
   "cell_type": "code",
   "execution_count": 32,
   "metadata": {
    "collapsed": false
   },
   "outputs": [
    {
     "data": {
      "text/plain": [
       "1190.4686319607863"
      ]
     },
     "execution_count": 32,
     "metadata": {},
     "output_type": "execute_result"
    }
   ],
   "source": [
    "second_model = RandomForestRegressor(bootstrap=True, criterion='mse', n_estimators=38,\n",
    "                                     max_depth=5, max_features='auto', \n",
    "                                     min_samples_split=0.030637, random_state=123)\n",
    "second_model.fit(X_train, y_train)\n",
    "\n",
    "y_hat = second_model.predict(X_test)\n",
    "\n",
    "test_score = mean_absolute_error(y_hat, y_test)\n",
    "test_score"
   ]
  },
  {
   "cell_type": "markdown",
   "metadata": {},
   "source": [
    "И все таки она оказалась похуже)"
   ]
  },
  {
   "cell_type": "markdown",
   "metadata": {},
   "source": [
    "# Классификация\n",
    "\n",
    "Рассмотрим построение дерева для одного из самых известных [наборов данных](https://www.kaggle.com/c/titanic/download/train.csv) о выживаемости после катастрофы, которая произошла с кораблем Титаник"
   ]
  },
  {
   "cell_type": "raw",
   "metadata": {},
   "source": [
    "Описание данных\n",
    "\n",
    "VARIABLE DESCRIPTIONS:\n",
    "survival        Survival\n",
    "                (0 = No; 1 = Yes)\n",
    "pclass          Passenger Class\n",
    "                (1 = 1st; 2 = 2nd; 3 = 3rd)\n",
    "name            Name\n",
    "sex             Sex\n",
    "age             Age\n",
    "sibsp           Number of Siblings/Spouses Aboard\n",
    "parch           Number of Parents/Children Aboard\n",
    "ticket          Ticket Number\n",
    "fare            Passenger Fare\n",
    "cabin           Cabin\n",
    "embarked        Port of Embarkation\n",
    "                (C = Cherbourg; Q = Queenstown; S = Southampton)\n",
    "\n",
    "SPECIAL NOTES:\n",
    "Pclass is a proxy for socio-economic status (SES)\n",
    " 1st ~ Upper; 2nd ~ Middle; 3rd ~ Lower\n",
    "\n",
    "Age is in Years; Fractional if Age less than One (1)\n",
    " If the Age is Estimated, it is in the form xx.5"
   ]
  },
  {
   "cell_type": "markdown",
   "metadata": {},
   "source": [
    "Целевой признак - Survived\n",
    "\n",
    "Сначала надо случайно разбить данные на обучающую и контрольную выборки."
   ]
  },
  {
   "cell_type": "code",
   "execution_count": 118,
   "metadata": {
    "collapsed": true
   },
   "outputs": [],
   "source": [
    "from sklearn.ensemble import RandomForestClassifier\n",
    "try:\n",
    "    from sklearn.model_selection import train_test_split\n",
    "except ImportError:\n",
    "    from sklearn.cross_validation import train_test_split"
   ]
  },
  {
   "cell_type": "code",
   "execution_count": 119,
   "metadata": {
    "collapsed": true
   },
   "outputs": [],
   "source": [
    "# Your code here\n",
    "\n",
    "df_titanic = pd.read_csv('titanic.csv', sep=',')"
   ]
  },
  {
   "cell_type": "code",
   "execution_count": 120,
   "metadata": {
    "collapsed": false
   },
   "outputs": [
    {
     "data": {
      "text/html": [
       "<div>\n",
       "<table border=\"1\" class=\"dataframe\">\n",
       "  <thead>\n",
       "    <tr style=\"text-align: right;\">\n",
       "      <th></th>\n",
       "      <th>PassengerId</th>\n",
       "      <th>Survived</th>\n",
       "      <th>Pclass</th>\n",
       "      <th>Name</th>\n",
       "      <th>Sex</th>\n",
       "      <th>Age</th>\n",
       "      <th>SibSp</th>\n",
       "      <th>Parch</th>\n",
       "      <th>Ticket</th>\n",
       "      <th>Fare</th>\n",
       "      <th>Cabin</th>\n",
       "      <th>Embarked</th>\n",
       "    </tr>\n",
       "  </thead>\n",
       "  <tbody>\n",
       "    <tr>\n",
       "      <th>0</th>\n",
       "      <td>1</td>\n",
       "      <td>0</td>\n",
       "      <td>3</td>\n",
       "      <td>Braund, Mr. Owen Harris</td>\n",
       "      <td>male</td>\n",
       "      <td>22.0</td>\n",
       "      <td>1</td>\n",
       "      <td>0</td>\n",
       "      <td>A/5 21171</td>\n",
       "      <td>7.2500</td>\n",
       "      <td>NaN</td>\n",
       "      <td>S</td>\n",
       "    </tr>\n",
       "    <tr>\n",
       "      <th>1</th>\n",
       "      <td>2</td>\n",
       "      <td>1</td>\n",
       "      <td>1</td>\n",
       "      <td>Cumings, Mrs. John Bradley (Florence Briggs Th...</td>\n",
       "      <td>female</td>\n",
       "      <td>38.0</td>\n",
       "      <td>1</td>\n",
       "      <td>0</td>\n",
       "      <td>PC 17599</td>\n",
       "      <td>71.2833</td>\n",
       "      <td>C85</td>\n",
       "      <td>C</td>\n",
       "    </tr>\n",
       "    <tr>\n",
       "      <th>2</th>\n",
       "      <td>3</td>\n",
       "      <td>1</td>\n",
       "      <td>3</td>\n",
       "      <td>Heikkinen, Miss. Laina</td>\n",
       "      <td>female</td>\n",
       "      <td>26.0</td>\n",
       "      <td>0</td>\n",
       "      <td>0</td>\n",
       "      <td>STON/O2. 3101282</td>\n",
       "      <td>7.9250</td>\n",
       "      <td>NaN</td>\n",
       "      <td>S</td>\n",
       "    </tr>\n",
       "    <tr>\n",
       "      <th>3</th>\n",
       "      <td>4</td>\n",
       "      <td>1</td>\n",
       "      <td>1</td>\n",
       "      <td>Futrelle, Mrs. Jacques Heath (Lily May Peel)</td>\n",
       "      <td>female</td>\n",
       "      <td>35.0</td>\n",
       "      <td>1</td>\n",
       "      <td>0</td>\n",
       "      <td>113803</td>\n",
       "      <td>53.1000</td>\n",
       "      <td>C123</td>\n",
       "      <td>S</td>\n",
       "    </tr>\n",
       "    <tr>\n",
       "      <th>4</th>\n",
       "      <td>5</td>\n",
       "      <td>0</td>\n",
       "      <td>3</td>\n",
       "      <td>Allen, Mr. William Henry</td>\n",
       "      <td>male</td>\n",
       "      <td>35.0</td>\n",
       "      <td>0</td>\n",
       "      <td>0</td>\n",
       "      <td>373450</td>\n",
       "      <td>8.0500</td>\n",
       "      <td>NaN</td>\n",
       "      <td>S</td>\n",
       "    </tr>\n",
       "  </tbody>\n",
       "</table>\n",
       "</div>"
      ],
      "text/plain": [
       "   PassengerId  Survived  Pclass  \\\n",
       "0            1         0       3   \n",
       "1            2         1       1   \n",
       "2            3         1       3   \n",
       "3            4         1       1   \n",
       "4            5         0       3   \n",
       "\n",
       "                                                Name     Sex   Age  SibSp  \\\n",
       "0                            Braund, Mr. Owen Harris    male  22.0      1   \n",
       "1  Cumings, Mrs. John Bradley (Florence Briggs Th...  female  38.0      1   \n",
       "2                             Heikkinen, Miss. Laina  female  26.0      0   \n",
       "3       Futrelle, Mrs. Jacques Heath (Lily May Peel)  female  35.0      1   \n",
       "4                           Allen, Mr. William Henry    male  35.0      0   \n",
       "\n",
       "   Parch            Ticket     Fare Cabin Embarked  \n",
       "0      0         A/5 21171   7.2500   NaN        S  \n",
       "1      0          PC 17599  71.2833   C85        C  \n",
       "2      0  STON/O2. 3101282   7.9250   NaN        S  \n",
       "3      0            113803  53.1000  C123        S  \n",
       "4      0            373450   8.0500   NaN        S  "
      ]
     },
     "execution_count": 120,
     "metadata": {},
     "output_type": "execute_result"
    }
   ],
   "source": [
    "df_titanic.head()"
   ]
  },
  {
   "cell_type": "code",
   "execution_count": 124,
   "metadata": {
    "collapsed": false
   },
   "outputs": [
    {
     "data": {
      "text/plain": [
       "PassengerId    0.000000\n",
       "Survived       0.000000\n",
       "Pclass         0.000000\n",
       "Name           0.000000\n",
       "Sex            0.000000\n",
       "Age            0.198653\n",
       "SibSp          0.000000\n",
       "Parch          0.000000\n",
       "Ticket         0.000000\n",
       "Fare           0.000000\n",
       "Cabin          0.771044\n",
       "Embarked       0.002245\n",
       "dtype: float64"
      ]
     },
     "execution_count": 124,
     "metadata": {},
     "output_type": "execute_result"
    }
   ],
   "source": [
    "# В данных есть пропуски!\n",
    "df_titanic.isnull().mean()"
   ]
  },
  {
   "cell_type": "code",
   "execution_count": 125,
   "metadata": {
    "collapsed": true
   },
   "outputs": [],
   "source": [
    "df_train, df_test = train_test_split(df_titanic, test_size=0.2, random_state=123)"
   ]
  },
  {
   "cell_type": "markdown",
   "metadata": {},
   "source": [
    "Повторим pipeline из предыдущей задачи"
   ]
  },
  {
   "cell_type": "markdown",
   "metadata": {},
   "source": [
    "## Подготовка процедур для данных"
   ]
  },
  {
   "cell_type": "code",
   "execution_count": 126,
   "metadata": {
    "collapsed": true
   },
   "outputs": [],
   "source": [
    "from sklearn.preprocessing import OneHotEncoder\n",
    "from sklearn.preprocessing import LabelEncoder\n",
    "from sklearn.pipeline import Pipeline"
   ]
  },
  {
   "cell_type": "code",
   "execution_count": 127,
   "metadata": {
    "collapsed": false
   },
   "outputs": [],
   "source": [
    "enc = LabelEncoder().fit(df_train.Embarked)"
   ]
  },
  {
   "cell_type": "code",
   "execution_count": 132,
   "metadata": {
    "collapsed": true
   },
   "outputs": [],
   "source": [
    "def titanic_preproc(df_input, encoder=LabelEncoder(), fit_encoder=True):\n",
    "    \n",
    "    df = df_input.copy()\n",
    "    \n",
    "    # Создаем такой признак\n",
    "    df.loc[:, 'has_cabin'] = df.loc[:, 'Cabin'].isnull().astype(int) \n",
    "    \n",
    "    # Удаляем колонки\n",
    "    cols2drop = ['PassengerId', 'Name', 'Ticket', 'Cabin']\n",
    "    df = df.drop(cols2drop, axis=1)\n",
    "    \n",
    "    # Заменяем пропуски в Age\n",
    "    df.loc[:, 'Age'] = df.loc[:, 'Age'].fillna(-9999)\n",
    "    \n",
    "    # Закодируем поле Sex\n",
    "    df.loc[:, 'Sex'] = df.loc[:, 'Sex'].replace({'male': 0, 'female':1})\n",
    "    \n",
    "    # Pclass - можно рассматривать как категориальный признак\n",
    "    # Для корректной работы one-hot его надо закодировать с 0\n",
    "    df.loc[:, 'Pclass'] = df.loc[:, 'Pclass'] - 1 \n",
    "\n",
    "    \n",
    "    # Закодируем поле Embarked\n",
    "    if encoder and fit_encoder:\n",
    "        df.loc[:, 'Embarked'] = encoder.fit_transform(df.loc[:, 'Embarked'])\n",
    "    else:\n",
    "        df.loc[:, 'Embarked'] = encoder.transform(df.loc[:, 'Embarked'])\n",
    "        \n",
    "    return df, encoder"
   ]
  },
  {
   "cell_type": "code",
   "execution_count": 133,
   "metadata": {
    "collapsed": false
   },
   "outputs": [],
   "source": [
    "df_train_preproc, encoder = df_train.pipe(titanic_preproc)\n",
    "df_test_preproc, _ = df_test.pipe(titanic_preproc, encoder=encoder, fit_encoder=False)"
   ]
  },
  {
   "cell_type": "markdown",
   "metadata": {},
   "source": [
    "## Подбор всех гиперпараметров\n",
    "\n",
    "По аналогии с предыдущей задачей, подберем гиперпараметры"
   ]
  },
  {
   "cell_type": "markdown",
   "metadata": {},
   "source": [
    "Пока не тратим силы на оптимизацию модели"
   ]
  },
  {
   "cell_type": "code",
   "execution_count": 134,
   "metadata": {
    "collapsed": true
   },
   "outputs": [],
   "source": [
    "from sklearn.metrics import classification_report\n",
    "from sklearn.metrics import confusion_matrix\n",
    "from sklearn.metrics import precision_recall_curve\n",
    "from sklearn.metrics import roc_curve\n",
    "from sklearn.metrics import roc_auc_score\n",
    "from sklearn.metrics import auc\n",
    "from sklearn.metrics import precision_recall_fscore_support"
   ]
  },
  {
   "cell_type": "code",
   "execution_count": 135,
   "metadata": {
    "collapsed": false
   },
   "outputs": [
    {
     "data": {
      "text/html": [
       "<div>\n",
       "<table border=\"1\" class=\"dataframe\">\n",
       "  <thead>\n",
       "    <tr style=\"text-align: right;\">\n",
       "      <th></th>\n",
       "      <th>Survived</th>\n",
       "      <th>Pclass</th>\n",
       "      <th>Sex</th>\n",
       "      <th>Age</th>\n",
       "      <th>SibSp</th>\n",
       "      <th>Parch</th>\n",
       "      <th>Fare</th>\n",
       "      <th>Embarked</th>\n",
       "      <th>has_cabin</th>\n",
       "    </tr>\n",
       "  </thead>\n",
       "  <tbody>\n",
       "    <tr>\n",
       "      <th>329</th>\n",
       "      <td>1</td>\n",
       "      <td>0</td>\n",
       "      <td>1</td>\n",
       "      <td>16.0</td>\n",
       "      <td>0</td>\n",
       "      <td>1</td>\n",
       "      <td>57.9792</td>\n",
       "      <td>1</td>\n",
       "      <td>0</td>\n",
       "    </tr>\n",
       "    <tr>\n",
       "      <th>749</th>\n",
       "      <td>0</td>\n",
       "      <td>2</td>\n",
       "      <td>0</td>\n",
       "      <td>31.0</td>\n",
       "      <td>0</td>\n",
       "      <td>0</td>\n",
       "      <td>7.7500</td>\n",
       "      <td>2</td>\n",
       "      <td>1</td>\n",
       "    </tr>\n",
       "    <tr>\n",
       "      <th>203</th>\n",
       "      <td>0</td>\n",
       "      <td>2</td>\n",
       "      <td>0</td>\n",
       "      <td>45.5</td>\n",
       "      <td>0</td>\n",
       "      <td>0</td>\n",
       "      <td>7.2250</td>\n",
       "      <td>1</td>\n",
       "      <td>1</td>\n",
       "    </tr>\n",
       "    <tr>\n",
       "      <th>421</th>\n",
       "      <td>0</td>\n",
       "      <td>2</td>\n",
       "      <td>0</td>\n",
       "      <td>21.0</td>\n",
       "      <td>0</td>\n",
       "      <td>0</td>\n",
       "      <td>7.7333</td>\n",
       "      <td>2</td>\n",
       "      <td>1</td>\n",
       "    </tr>\n",
       "    <tr>\n",
       "      <th>97</th>\n",
       "      <td>1</td>\n",
       "      <td>0</td>\n",
       "      <td>0</td>\n",
       "      <td>23.0</td>\n",
       "      <td>0</td>\n",
       "      <td>1</td>\n",
       "      <td>63.3583</td>\n",
       "      <td>1</td>\n",
       "      <td>0</td>\n",
       "    </tr>\n",
       "  </tbody>\n",
       "</table>\n",
       "</div>"
      ],
      "text/plain": [
       "     Survived  Pclass  Sex   Age  SibSp  Parch     Fare  Embarked  has_cabin\n",
       "329         1       0    1  16.0      0      1  57.9792         1          0\n",
       "749         0       2    0  31.0      0      0   7.7500         2          1\n",
       "203         0       2    0  45.5      0      0   7.2250         1          1\n",
       "421         0       2    0  21.0      0      0   7.7333         2          1\n",
       "97          1       0    0  23.0      0      1  63.3583         1          0"
      ]
     },
     "execution_count": 135,
     "metadata": {},
     "output_type": "execute_result"
    }
   ],
   "source": [
    "df_train_preproc.head()"
   ]
  },
  {
   "cell_type": "code",
   "execution_count": 136,
   "metadata": {
    "collapsed": true
   },
   "outputs": [],
   "source": [
    "X_train, y_train = df_train_preproc.iloc[:, 1:].values, df_train_preproc.iloc[:, 0].values"
   ]
  },
  {
   "cell_type": "code",
   "execution_count": 137,
   "metadata": {
    "collapsed": true
   },
   "outputs": [],
   "source": [
    "# Поставим целевую метрику roc-auc, а все остальное просто поизучаем\n",
    "\n",
    "# Будем делать 200 запусков поиска\n",
    "# Можно пойти пить кофе =)\n",
    "model = Pipeline([('onehot', OneHotEncoder(categorical_features=[0, 6]) ), # Pclass и Embarked - категориальные\n",
    "                  ('rf', RandomForestClassifier(random_state=123))])\n",
    "\n",
    "# У нас композитная модель - сначала идет onehot категориальных признаков, потом случайный лес.\n",
    "# Чтобы дать понять, что мы должны перебирать параметры случайнго леса в param_grid\n",
    "# надо добавить название соответствующего шага - в нашем случае \"rf\"\n",
    "\n",
    "param_grid = {\n",
    "    'rf__n_estimators': randint(20, 100), # У нас не так много данных, этого достаточно\n",
    "    'rf__max_depth': randint(2, 8),\n",
    "    'rf__max_features': ['log2', 'sqrt', 2],\n",
    "    'rf__min_samples_split': uniform(0, 0.1)}\n",
    "\n",
    "random_search = RandomizedSearchCV(model, param_distributions=param_grid, n_iter=200, n_jobs=4,\n",
    "               cv=5, scoring='roc_auc', random_state=123)"
   ]
  },
  {
   "cell_type": "code",
   "execution_count": 138,
   "metadata": {
    "collapsed": false,
    "scrolled": true
   },
   "outputs": [
    {
     "data": {
      "text/plain": [
       "RandomizedSearchCV(cv=5, error_score='raise',\n",
       "          estimator=Pipeline(steps=[('onehot', OneHotEncoder(categorical_features=[0, 6], dtype=<type 'numpy.float64'>,\n",
       "       handle_unknown='error', n_values='auto', sparse=True)), ('rf', RandomForestClassifier(bootstrap=True, class_weight=None, criterion='gini',\n",
       "            max_depth=None, max_features='auto', max_leaf_nodes...timators=10, n_jobs=1, oob_score=False, random_state=123,\n",
       "            verbose=0, warm_start=False))]),\n",
       "          fit_params={}, iid=True, n_iter=200, n_jobs=4,\n",
       "          param_distributions={'rf__min_samples_split': <scipy.stats._distn_infrastructure.rv_frozen object at 0x115ae0950>, 'rf__max_depth': <scipy.stats._distn_infrastructure.rv_frozen object at 0x115ae08d0>, 'rf__max_features': ['log2', 'sqrt', 2], 'rf__n_estimators': <scipy.stats._distn_infrastructure.rv_frozen object at 0x115ae0450>},\n",
       "          pre_dispatch='2*n_jobs', random_state=123, refit=True,\n",
       "          return_train_score=True, scoring='roc_auc', verbose=0)"
      ]
     },
     "execution_count": 138,
     "metadata": {},
     "output_type": "execute_result"
    }
   ],
   "source": [
    "random_search.fit(X_train, y_train)"
   ]
  },
  {
   "cell_type": "code",
   "execution_count": 139,
   "metadata": {
    "collapsed": false
   },
   "outputs": [
    {
     "name": "stdout",
     "output_type": "stream",
     "text": [
      "Лучшая оценка качества (по кросс-валидации): 0.856343\n"
     ]
    }
   ],
   "source": [
    "print 'Лучшая оценка качества (по кросс-валидации): %f' % (random_search.best_score_)"
   ]
  },
  {
   "cell_type": "code",
   "execution_count": 140,
   "metadata": {
    "collapsed": false
   },
   "outputs": [
    {
     "name": "stdout",
     "output_type": "stream",
     "text": [
      "Лучше параметры:\n"
     ]
    },
    {
     "data": {
      "text/plain": [
       "{'rf__max_depth': 5,\n",
       " 'rf__max_features': 'sqrt',\n",
       " 'rf__min_samples_split': 0.018033628310429272,\n",
       " 'rf__n_estimators': 74}"
      ]
     },
     "execution_count": 140,
     "metadata": {},
     "output_type": "execute_result"
    }
   ],
   "source": [
    "print 'Лучше параметры:'\n",
    "random_search.best_params_"
   ]
  },
  {
   "cell_type": "code",
   "execution_count": 146,
   "metadata": {
    "collapsed": false
   },
   "outputs": [
    {
     "name": "stderr",
     "output_type": "stream",
     "text": [
      "/Users/andrey.shestakov/anaconda2/lib/python2.7/site-packages/sklearn/model_selection/_search.py:667: DeprecationWarning: The grid_scores_ attribute was deprecated in version 0.18 in favor of the more elaborate cv_results_ attribute. The grid_scores_ attribute will not be available from 0.20\n",
      "  DeprecationWarning)\n"
     ]
    }
   ],
   "source": [
    "try:\n",
    "    grid = random_search.grid_scores_\n",
    "except:\n",
    "    grid = random_search.cv_results_\n",
    "    \n",
    "df_grid = pd.DataFrame.from_dict([e.parameters for e in grid])\n",
    "df_grid.loc[:, 'cv_mean_scores'] = [-e.mean_validation_score for e in grid]\n",
    "df_grid.loc[:, 'cv_std_scores'] = [np.std(e.cv_validation_scores) for e in grid]\n",
    "df_grid = df_grid.sort_values('cv_mean_scores', ascending=True)"
   ]
  },
  {
   "cell_type": "code",
   "execution_count": 147,
   "metadata": {
    "collapsed": false
   },
   "outputs": [
    {
     "data": {
      "text/html": [
       "<div>\n",
       "<table border=\"1\" class=\"dataframe\">\n",
       "  <thead>\n",
       "    <tr style=\"text-align: right;\">\n",
       "      <th></th>\n",
       "      <th>rf__max_depth</th>\n",
       "      <th>rf__max_features</th>\n",
       "      <th>rf__min_samples_split</th>\n",
       "      <th>rf__n_estimators</th>\n",
       "      <th>cv_mean_scores</th>\n",
       "      <th>cv_std_scores</th>\n",
       "    </tr>\n",
       "  </thead>\n",
       "  <tbody>\n",
       "    <tr>\n",
       "      <th>19</th>\n",
       "      <td>5</td>\n",
       "      <td>sqrt</td>\n",
       "      <td>0.018034</td>\n",
       "      <td>74</td>\n",
       "      <td>-0.856343</td>\n",
       "      <td>0.024515</td>\n",
       "    </tr>\n",
       "    <tr>\n",
       "      <th>105</th>\n",
       "      <td>5</td>\n",
       "      <td>log2</td>\n",
       "      <td>0.024503</td>\n",
       "      <td>54</td>\n",
       "      <td>-0.855294</td>\n",
       "      <td>0.023125</td>\n",
       "    </tr>\n",
       "    <tr>\n",
       "      <th>23</th>\n",
       "      <td>5</td>\n",
       "      <td>log2</td>\n",
       "      <td>0.010854</td>\n",
       "      <td>69</td>\n",
       "      <td>-0.855173</td>\n",
       "      <td>0.021970</td>\n",
       "    </tr>\n",
       "    <tr>\n",
       "      <th>98</th>\n",
       "      <td>5</td>\n",
       "      <td>sqrt</td>\n",
       "      <td>0.052184</td>\n",
       "      <td>92</td>\n",
       "      <td>-0.854754</td>\n",
       "      <td>0.024584</td>\n",
       "    </tr>\n",
       "    <tr>\n",
       "      <th>106</th>\n",
       "      <td>6</td>\n",
       "      <td>2</td>\n",
       "      <td>0.009219</td>\n",
       "      <td>60</td>\n",
       "      <td>-0.854193</td>\n",
       "      <td>0.029477</td>\n",
       "    </tr>\n",
       "  </tbody>\n",
       "</table>\n",
       "</div>"
      ],
      "text/plain": [
       "     rf__max_depth rf__max_features  rf__min_samples_split  rf__n_estimators  \\\n",
       "19               5             sqrt               0.018034                74   \n",
       "105              5             log2               0.024503                54   \n",
       "23               5             log2               0.010854                69   \n",
       "98               5             sqrt               0.052184                92   \n",
       "106              6                2               0.009219                60   \n",
       "\n",
       "     cv_mean_scores  cv_std_scores  \n",
       "19        -0.856343       0.024515  \n",
       "105       -0.855294       0.023125  \n",
       "23        -0.855173       0.021970  \n",
       "98        -0.854754       0.024584  \n",
       "106       -0.854193       0.029477  "
      ]
     },
     "execution_count": 147,
     "metadata": {},
     "output_type": "execute_result"
    }
   ],
   "source": [
    "df_grid.head()"
   ]
  },
  {
   "cell_type": "code",
   "execution_count": 148,
   "metadata": {
    "collapsed": true
   },
   "outputs": [],
   "source": [
    "final_model = random_search.best_estimator_"
   ]
  },
  {
   "cell_type": "code",
   "execution_count": 164,
   "metadata": {
    "collapsed": false
   },
   "outputs": [],
   "source": [
    "# Тут немнго посложнее - \n",
    "# Во-первых, мы делали one-hot и поэтому надо понять где какой признак\n",
    "# Во-вторых, надо в Pipeline добраться до randomforest\n",
    "\n",
    "enc = final_model.steps[0][1]\n",
    "# сложно написал.. но мы получили категориальные признаки\n",
    "cat_features = ['%s_%d' % (fname, j-enc.feature_indices_[i]) for i, fname in enumerate(df_train_preproc.columns[[1,7]]) for j in range(enc.feature_indices_[i], enc.feature_indices_[i+1])]\n",
    "cont_features = df_train_preproc.columns[[2,3,4,5,6,8]].tolist()\n",
    "\n",
    "all_features = cat_features + cont_features"
   ]
  },
  {
   "cell_type": "code",
   "execution_count": 165,
   "metadata": {
    "collapsed": false
   },
   "outputs": [
    {
     "data": {
      "text/plain": [
       "['Sex', 'Age', 'SibSp', 'Parch', 'Fare', 'has_cabin']"
      ]
     },
     "execution_count": 165,
     "metadata": {},
     "output_type": "execute_result"
    }
   ],
   "source": [
    "cont_features"
   ]
  },
  {
   "cell_type": "code",
   "execution_count": 166,
   "metadata": {
    "collapsed": false
   },
   "outputs": [
    {
     "data": {
      "text/plain": [
       "<matplotlib.axes._subplots.AxesSubplot at 0x1176a7090>"
      ]
     },
     "execution_count": 166,
     "metadata": {},
     "output_type": "execute_result"
    },
    {
     "data": {
      "image/png": "[encoded data removed]",
      "text/plain": [
       "<matplotlib.figure.Figure at 0x1176af510>"
      ]
     },
     "metadata": {},
     "output_type": "display_data"
    }
   ],
   "source": [
    "\n",
    "importances = pd.Series(data=final_model.steps[1][1].feature_importances_, \n",
    "                        index=all_features)\\\n",
    "                .sort_values()\n",
    "importances.plot(kind='barh')"
   ]
  },
  {
   "cell_type": "markdown",
   "metadata": {},
   "source": [
    "Ну да, спаслись в основном женщины (это из истории, а не из картинки). Так же на результат влиает Fare.\n",
    "\n",
    "В этом и недостаток \"важности признаков\" в деревянных методов - не видно тендеции влияния.\n"
   ]
  },
  {
   "cell_type": "markdown",
   "metadata": {},
   "source": [
    "## Построим и посчитаем разные метрики качества"
   ]
  },
  {
   "cell_type": "code",
   "execution_count": 167,
   "metadata": {
    "collapsed": true
   },
   "outputs": [],
   "source": [
    "X_test, y_test = df_test_preproc.iloc[:, 1:].values, df_test_preproc.iloc[:, 0].values"
   ]
  },
  {
   "cell_type": "code",
   "execution_count": 168,
   "metadata": {
    "collapsed": false
   },
   "outputs": [],
   "source": [
    "# Возвращает массив с вероятностями каждого класса\n",
    "y_hat_train_proba = final_model.predict_proba(X_train)[:, 1] \n",
    "\n",
    "# Возвращает предсказание на основе большинства\n",
    "y_hat_train = final_model.predict(X_train)\n",
    "\n",
    "y_hat_test_proba = final_model.predict_proba(X_test)[:, 1] \n",
    "y_hat_test = final_model.predict(X_test)"
   ]
  },
  {
   "cell_type": "markdown",
   "metadata": {},
   "source": [
    "## ROC-Curve + PR-Curve"
   ]
  },
  {
   "cell_type": "code",
   "execution_count": 169,
   "metadata": {
    "collapsed": false
   },
   "outputs": [
    {
     "data": {
      "text/plain": [
       "<matplotlib.legend.Legend at 0x117cfca10>"
      ]
     },
     "execution_count": 169,
     "metadata": {},
     "output_type": "execute_result"
    },
    {
     "data": {
      "image/png": "[encoded data removed]",
      "text/plain": [
       "<matplotlib.figure.Figure at 0x117b3e450>"
      ]
     },
     "metadata": {},
     "output_type": "display_data"
    }
   ],
   "source": [
    "fig, ax = plt.subplots(1, 2)\n",
    "\n",
    "# ROC\n",
    "\n",
    "fpr, tpr, _ = roc_curve(y_train, y_hat_train_proba)\n",
    "auc_score = roc_auc_score(y_train, y_hat_train_proba)\n",
    "\n",
    "ax[0].plot(fpr, tpr, label='train (AUC=%.2f)' % auc_score)\n",
    "\n",
    "fpr, tpr, _ = roc_curve(y_test, y_hat_test_proba)\n",
    "auc_score = roc_auc_score(y_test, y_hat_test_proba)\n",
    "\n",
    "ax[0].plot(fpr, tpr, label='test (AUC=%.2f)' % auc_score)\n",
    "\n",
    "ax[0].set_xlabel('FPR')\n",
    "ax[0].set_ylabel('TPR')\n",
    "ax[0].set_title('ROC curves', fontsize=20)\n",
    "ax[0].legend(loc=4)\n",
    "\n",
    "# PR\n",
    "pr, rec, _ = precision_recall_curve(y_train, y_hat_train_proba)\n",
    "auc_score = auc(rec, pr)\n",
    "\n",
    "ax[1].plot(rec, pr, label='train (AUC=%.2f)' % auc_score)\n",
    "\n",
    "pr, rec, _ = precision_recall_curve(y_test, y_hat_test_proba)\n",
    "auc_score = auc(rec, pr)\n",
    "\n",
    "ax[1].plot(rec, pr, label='test (AUC=%.2f)' % auc_score)\n",
    "\n",
    "\n",
    "ax[1].set_xlabel('Recall')\n",
    "ax[1].set_ylabel('Precision')\n",
    "ax[1].set_title('PR curves', fontsize=20)\n",
    "ax[1].legend(loc=3)"
   ]
  },
  {
   "cell_type": "code",
   "execution_count": 175,
   "metadata": {
    "collapsed": false
   },
   "outputs": [
    {
     "name": "stdout",
     "output_type": "stream",
     "text": [
      "Confusion matrix 4 train\n",
      "[[191  86]\n",
      " [ 28 407]]\n",
      "==========\n",
      "Confusion matrix 4 test\n",
      "[[ 46  19]\n",
      " [ 11 103]]\n"
     ]
    }
   ],
   "source": [
    "print 'Confusion matrix 4 train'\n",
    "print confusion_matrix(y_train, y_hat_train, labels=[1,0])\n",
    "print '='*10 + '\\nConfusion matrix 4 test'\n",
    "print confusion_matrix(y_test, y_hat_test, labels=[1,0])"
   ]
  },
  {
   "cell_type": "code",
   "execution_count": 176,
   "metadata": {
    "collapsed": false
   },
   "outputs": [
    {
     "name": "stdout",
     "output_type": "stream",
     "text": [
      "Report 4 train\n",
      "             precision    recall  f1-score   support\n",
      "\n",
      "          0       0.83      0.94      0.88       435\n",
      "          1       0.87      0.69      0.77       277\n",
      "\n",
      "avg / total       0.84      0.84      0.84       712\n",
      "\n",
      "==========\n",
      "Report 4 test\n",
      "             precision    recall  f1-score   support\n",
      "\n",
      "          0       0.84      0.90      0.87       114\n",
      "          1       0.81      0.71      0.75        65\n",
      "\n",
      "avg / total       0.83      0.83      0.83       179\n",
      "\n"
     ]
    }
   ],
   "source": [
    "print 'Report 4 train'\n",
    "print classification_report(y_train, y_hat_train)\n",
    "print '='*10 + '\\nReport 4 test'\n",
    "print classification_report(y_test, y_hat_test)"
   ]
  }
 ],
 "metadata": {
  "anaconda-cloud": {},
  "kernelspec": {
   "display_name": "Python [default]",
   "language": "python",
   "name": "python2"
  },
  "language_info": {
   "codemirror_mode": {
    "name": "ipython",
    "version": 2
   },
   "file_extension": ".py",
   "mimetype": "text/x-python",
   "name": "python",
   "nbconvert_exporter": "python",
   "pygments_lexer": "ipython2",
   "version": "2.7.12"
  },
  "nav_menu": {},
  "toc": {
   "navigate_menu": true,
   "number_sections": false,
   "sideBar": true,
   "threshold": 6,
   "toc_cell": false,
   "toc_section_display": "block",
   "toc_window_display": true
  },
  "toc_position": {
   "height": "698px",
   "left": "0px",
   "right": "1236.33px",
   "top": "107px",
   "width": "193px"
  }
 },
 "nbformat": 4,
 "nbformat_minor": 0
}
