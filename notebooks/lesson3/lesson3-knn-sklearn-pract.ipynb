{
 "cells": [
  {
   "cell_type": "markdown",
   "metadata": {},
   "source": [
    "# Машинное обучение и майнинг данных\n",
    "## 02/02/2017 Введение в sklearn, kNN"
   ]
  },
  {
   "cell_type": "code",
   "execution_count": null,
   "metadata": {
    "collapsed": false
   },
   "outputs": [],
   "source": [
    "import pandas as pd\n",
    "import numpy as np\n",
    "import matplotlib.pyplot as plt\n",
    "\n",
    "%matplotlib inline\n",
    "\n",
    "plt.style.use('ggplot')\n",
    "plt.rcParams['figure.figsize'] = (16,8)\n",
    "\n",
    "# Для кириллицы на графиках\n",
    "font = {'family': 'Verdana',\n",
    "        'weight': 'normal'}\n",
    "plt.rc('font', **font)"
   ]
  },
  {
   "cell_type": "markdown",
   "metadata": {},
   "source": [
    "<img src='https://s-media-cache-ak0.pinimg.com/originals/ac/29/f4/ac29f41d112cb20512ca6d7ce6b00fa6.jpg'>"
   ]
  },
  {
   "cell_type": "markdown",
   "metadata": {},
   "source": [
    "[Scikit-learn](http://scikit-learn.org/stable/index.html) (или sklearn) - самая популярная библиотека с алгоритмами машинного обучения и практически всеми необходимыми вспомогательными функциями, которые могут понадобится при подготовке данных, визуализации и оценке качества методов.\n",
    "\n",
    "На странице модуля можно найти примеры для многих методов с пояснениями.\n",
    "\n",
    "Рвемся в бой"
   ]
  },
  {
   "cell_type": "markdown",
   "metadata": {},
   "source": [
    "## Стоимость жилья в Калифорнии"
   ]
  },
  {
   "cell_type": "code",
   "execution_count": null,
   "metadata": {
    "collapsed": true
   },
   "outputs": [],
   "source": [
    "from sklearn.datasets import fetch_california_housing\n",
    "import mpl_toolkits.basemap as bm"
   ]
  },
  {
   "cell_type": "code",
   "execution_count": null,
   "metadata": {
    "collapsed": true
   },
   "outputs": [],
   "source": [
    "data = fetch_california_housing()\n",
    "\n",
    "X = data.data\n",
    "y = data.target"
   ]
  },
  {
   "cell_type": "code",
   "execution_count": null,
   "metadata": {
    "collapsed": false
   },
   "outputs": [],
   "source": [
    "print data.DESCR"
   ]
  },
  {
   "cell_type": "code",
   "execution_count": null,
   "metadata": {
    "collapsed": false
   },
   "outputs": [],
   "source": [
    "# Возьмем подвыборку\n",
    "lllat, lllon = 33, -125\n",
    "urlat, urlon = 42, -114\n",
    "\n",
    "idx = (X[:, -1] <= urlon) & (X[:, -1] >= lllon) &\\\n",
    "      (X[:, -2] <= urlat) & (X[:, -2] >= lllat)\n",
    "\n",
    "X = X[idx]\n",
    "y = y[idx]"
   ]
  },
  {
   "cell_type": "code",
   "execution_count": null,
   "metadata": {
    "collapsed": false
   },
   "outputs": [],
   "source": [
    "# Нарисуем это дело\n",
    "\n",
    "plt.figure(figsize=(10, 10))\n",
    "\n",
    "m = bm.Basemap(\n",
    "    llcrnrlon=lllon,\n",
    "    llcrnrlat=lllat,\n",
    "    urcrnrlon=urlon,\n",
    "    urcrnrlat=urlat, \n",
    "    projection='merc',\n",
    "    resolution='h'\n",
    ")\n",
    "\n",
    "m.drawcoastlines(linewidth=0.5)\n",
    "m.drawmapboundary(fill_color='#47A4C9', zorder=1)\n",
    "m.fillcontinents(color='#EBC4D8',lake_color='#47A4C9', zorder=2)\n",
    "\n",
    "parallels = np.linspace(lllat, urlat, 10)\n",
    "m.drawparallels(parallels,labels=[1,0,0,0],fontsize=10)\n",
    "# draw meridians\n",
    "meridians = np.linspace(lllon, urlon, 10)\n",
    "m.drawmeridians(meridians,labels=[0,0,0,1],fontsize=10)\n",
    "\n",
    "m.scatter(X[:, -1], X[:, -2], latlon=True, cmap=plt.cm.hot,\n",
    "          zorder=3, lw=0, c=y)"
   ]
  },
  {
   "cell_type": "markdown",
   "metadata": {},
   "source": [
    "### Обучим  KNN"
   ]
  },
  {
   "cell_type": "markdown",
   "metadata": {},
   "source": [
    "Модели в sklearn - это экземпляры класса в `python`, основными методами которого являются `.fit()`, `.predict()` и иногда `.predict_proba()`"
   ]
  },
  {
   "cell_type": "code",
   "execution_count": null,
   "metadata": {
    "collapsed": true
   },
   "outputs": [],
   "source": [
    "from sklearn.neighbors import KNeighborsRegressor\n",
    "from sklearn.model_selection import train_test_split\n",
    "from sklearn.metrics import mean_squared_error\n",
    "\n",
    "RND_SEED = 123"
   ]
  },
  {
   "cell_type": "code",
   "execution_count": null,
   "metadata": {
    "collapsed": false
   },
   "outputs": [],
   "source": [
    "# Разбиваем случайным образом на обучение и контроль\n",
    "\n",
    "X_train, X_test, y_train, y_test = train_test_split(X[:,-2:], y, test_size=0.3, random_state=RND_SEED)"
   ]
  },
  {
   "cell_type": "code",
   "execution_count": null,
   "metadata": {
    "collapsed": true
   },
   "outputs": [],
   "source": [
    "knn = KNeighborsRegressor()\n",
    "\n"
   ]
  },
  {
   "cell_type": "markdown",
   "metadata": {},
   "source": [
    "### Подбор числа соседей\n",
    "\n",
    "Зафиксируем все гиперпараметры, кроме числа ближайших соседей.\n",
    "\n",
    "Переберите значение `k` от 1 до 15, выведите на графике ошибку при каждом `k`.\n",
    "\n",
    "В будущем, естественно, мы изучем подходы, которые позволяют автоматизировано и эффективно определяеть оптимальные гиперпараметры моделей - например с помощью `GridSearch`, `RandomizedSearch` или [hyperopt](https://github.com/hyperopt/hyperopt)."
   ]
  },
  {
   "cell_type": "code",
   "execution_count": null,
   "metadata": {
    "collapsed": true
   },
   "outputs": [],
   "source": [
    "## Your code here"
   ]
  },
  {
   "cell_type": "markdown",
   "metadata": {},
   "source": [
    "Какая методологическая ошибка здесь допущена?"
   ]
  },
  {
   "cell_type": "markdown",
   "metadata": {},
   "source": [
    "### Оценка обобщающей способности и выбор гиперпараметров"
   ]
  },
  {
   "cell_type": "markdown",
   "metadata": {},
   "source": [
    "#### Train + Test\n",
    "\n",
    "До что мы сделали выше - называется метод отложенной выборки\n",
    "\n",
    "<img src='https://www.lucypark.kr/courses/2015-dm/images/partition.png' width=700>"
   ]
  },
  {
   "cell_type": "markdown",
   "metadata": {},
   "source": [
    "Случайным образом разбиваем исходные данные в некоторой пропорции (70/30, 80/20) на обучающую и контрольную выборку.\n",
    "\n",
    "На одной алгоритм обучается, на другой проверяется его качество."
   ]
  },
  {
   "cell_type": "markdown",
   "metadata": {},
   "source": [
    "#### Train + Validation + Test\n",
    "\n",
    "Иногда встречается трехступенчатая стратегия - теперь добавляется так называемое валидационной множество.\n",
    "\n",
    "Такая схема подходит если данных достаточно много. <br/> \n",
    "Оценка качества надежнее чем в предыдущем случае"
   ]
  },
  {
   "cell_type": "markdown",
   "metadata": {},
   "source": [
    "<img src='https://dataengr.files.wordpress.com/2016/01/partitions.jpg?w=656'>"
   ]
  },
  {
   "cell_type": "markdown",
   "metadata": {},
   "source": [
    "#### Cross-validation\n",
    "\n",
    "В предыдущих случаях не все объекты будут участвовать в обучении.\n",
    "\n",
    "Можно разбить данные на $k$ равных частей, одну часть использовать для тестирования, а все остальное - для обучения. <br/>\n",
    "Далее качество по всем фолдам усредняется"
   ]
  },
  {
   "cell_type": "markdown",
   "metadata": {},
   "source": [
    "<img src='http://blog-test.goldenhelix.com/wp-content/uploads/2015/04/B-fig-1.jpg'>"
   ]
  },
  {
   "cell_type": "markdown",
   "metadata": {},
   "source": [
    "К сожалению, данный подход можно применить не всегда."
   ]
  },
  {
   "cell_type": "markdown",
   "metadata": {},
   "source": [
    "## Данные с оттоком клиентов"
   ]
  },
  {
   "cell_type": "markdown",
   "metadata": {},
   "source": [
    "Загрузите [данные](https://raw.githubusercontent.com/EricChiang/churn/master/data/churn.csv) об оттоке клиентов через pandas."
   ]
  },
  {
   "cell_type": "code",
   "execution_count": null,
   "metadata": {
    "collapsed": true
   },
   "outputs": [],
   "source": [
    "df_churn = pd.read_csv('https://raw.githubusercontent.com/EricChiang/churn/master/data/churn.csv')"
   ]
  },
  {
   "cell_type": "code",
   "execution_count": null,
   "metadata": {
    "collapsed": false
   },
   "outputs": [],
   "source": [
    "df_churn.head().T"
   ]
  },
  {
   "cell_type": "code",
   "execution_count": null,
   "metadata": {
    "collapsed": false
   },
   "outputs": [],
   "source": [
    "print df_churn.shape"
   ]
  },
  {
   "cell_type": "markdown",
   "metadata": {},
   "source": [
    "Это небольшие данные, но у них есть большие проблемы:"
   ]
  },
  {
   "cell_type": "markdown",
   "metadata": {},
   "source": [
    "#### Проблема 1: Признаки разных шкал"
   ]
  },
  {
   "cell_type": "code",
   "execution_count": null,
   "metadata": {
    "collapsed": false
   },
   "outputs": [],
   "source": [
    "df_churn.describe(include='all').T"
   ]
  },
  {
   "cell_type": "markdown",
   "metadata": {},
   "source": [
    "#### Проблема 2: Региональные признак\n",
    "Он может влиять на ответ, но развертывать его в бинарный не имеет смысла.\n",
    "\n",
    "Можно ли его как-то неявно включить в модель?"
   ]
  },
  {
   "cell_type": "code",
   "execution_count": null,
   "metadata": {
    "collapsed": false
   },
   "outputs": [],
   "source": [
    "df_churn.loc[:, 'State'].nunique()"
   ]
  },
  {
   "cell_type": "markdown",
   "metadata": {},
   "source": [
    "#### Проблема 3: Довольно сильный перекос классов"
   ]
  },
  {
   "cell_type": "code",
   "execution_count": null,
   "metadata": {
    "collapsed": false
   },
   "outputs": [],
   "source": [
    "df_churn.loc[:, 'Churn?'].value_counts()"
   ]
  },
  {
   "cell_type": "markdown",
   "metadata": {},
   "source": [
    "#### Задание\n",
    "\n",
    "1. Подготовьте данные \n",
    "    * Удалите ненужные признаки\n",
    "    * Преобразуйте категориальные и бинарные признаки\n",
    "    * Отнормируйте признаки\n",
    "2. Выберите меру качества и метод оценки обобщающей способности\n",
    "3. Вновь, зафиксируйте все гиперпараметры, кроме количества ближайших соседей, найдите наилучшее значение"
   ]
  },
  {
   "cell_type": "code",
   "execution_count": null,
   "metadata": {
    "collapsed": true
   },
   "outputs": [],
   "source": [
    "## Your code here"
   ]
  }
 ],
 "metadata": {
  "anaconda-cloud": {},
  "kernelspec": {
   "display_name": "Python [default]",
   "language": "python",
   "name": "python2"
  },
  "language_info": {
   "codemirror_mode": {
    "name": "ipython",
    "version": 2
   },
   "file_extension": ".py",
   "mimetype": "text/x-python",
   "name": "python",
   "nbconvert_exporter": "python",
   "pygments_lexer": "ipython2",
   "version": "2.7.12"
  },
  "nav_menu": {},
  "toc": {
   "navigate_menu": true,
   "number_sections": false,
   "sideBar": true,
   "threshold": 6,
   "toc_cell": false,
   "toc_section_display": "block",
   "toc_window_display": true
  },
  "toc_position": {
   "height": "698px",
   "left": "0px",
   "right": "1207.33px",
   "top": "107px",
   "width": "222px"
  }
 },
 "nbformat": 4,
 "nbformat_minor": 0
}
