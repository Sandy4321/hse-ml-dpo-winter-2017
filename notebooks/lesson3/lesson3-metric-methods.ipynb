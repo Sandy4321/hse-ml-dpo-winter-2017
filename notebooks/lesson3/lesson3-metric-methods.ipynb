{
 "cells": [
  {
   "cell_type": "code",
   "execution_count": null,
   "metadata": {
    "collapsed": true,
    "slideshow": {
     "slide_type": "skip"
    }
   },
   "outputs": [],
   "source": [
    "import numpy as np\n",
    "import matplotlib.pyplot as plt\n",
    "import pandas as pd\n",
    "\n",
    "plt.style.use('ggplot')\n",
    "\n",
    "%matplotlib inline"
   ]
  },
  {
   "cell_type": "markdown",
   "metadata": {
    "slideshow": {
     "slide_type": "slide"
    }
   },
   "source": [
    "# Машинное обучение и майнинг данных\n",
    "\n",
    "## 02/02/2017 Метрические методы классификации и регрессии"
   ]
  },
  {
   "cell_type": "markdown",
   "metadata": {
    "slideshow": {
     "slide_type": "subslide"
    }
   },
   "source": [
    "Вспомним, что было на самой первой лекции:\n",
    "\n"
   ]
  },
  {
   "cell_type": "markdown",
   "metadata": {
    "slideshow": {
     "slide_type": "subslide"
    }
   },
   "source": [
    "\n",
    "## Машинное обучение - это про что?\n",
    "\n",
    "Окружающий мир наполнен разного рода закономерностями\n",
    "* «Очевидные» закономерности\n",
    "* Законы природы\n",
    "* Но есть закономерности, которые сложно выразить парой формул..\n",
    "\n",
    "В широком смысле, **машинное обучение** – набор методов, позволяющий обучать вычислительные системы решать определенную задачу без явного программирования."
   ]
  },
  {
   "cell_type": "markdown",
   "metadata": {
    "slideshow": {
     "slide_type": "subslide"
    }
   },
   "source": [
    "## Обучение по прецедентам\n",
    "\n",
    "* Множество объектов $O$\n",
    "* Каждому объекту $o \\in O$ можно поставить в соответствие набор признаков $(x, y)$ где\n",
    "    * $x \\in X$ - вектор описательных признаков\n",
    "    * $y \\in Y$ - целевой признак\n",
    "* Существует неизвестная зависимость $f:X \\rightarrow Y$\n",
    "\n",
    "**Задачи:**\n",
    "1. Используя конечный набор примеров $(x, y)$, найти алгоритм (решающую функцию) $a(x) = (\\hat{y})$, аппроксимирующую $f(x)$\n",
    "2. Применить алгоритм $a(x)$ на новых объектах\n",
    "\n",
    "\n"
   ]
  },
  {
   "cell_type": "markdown",
   "metadata": {
    "slideshow": {
     "slide_type": "subslide"
    }
   },
   "source": [
    "## Типы задач\n",
    "\n",
    "* Обучение с учителем (Supervised Learning)\n",
    "    * Классификация: $Y=\\{−1, +1\\}$ (Bad и Good в кредитном скорринге, отток клиентов)\n",
    "    * Регрессия: $Y \\in \\mathbb{R}$ (оценка стоимости автомобиля)\n",
    "    * Ранжирование: Поисковые системы\n",
    "* Обучение без учителя (Unsupervised Learning)\n",
    "    * Сегментация клиентов магазина\n",
    "    * Знание 𝑌 не используется при обучении\n",
    "* Обучение с подкреплением (Reinforcement Learning)\n",
    "* Рекомендательные системы (RecSys)\n",
    "* Semi-supervised Learning\n",
    "* $\\dots$\n"
   ]
  },
  {
   "cell_type": "markdown",
   "metadata": {
    "slideshow": {
     "slide_type": "subslide"
    }
   },
   "source": [
    "## Основные вопросы\n",
    "\n",
    "* Как выбирать/составлять признаковое описание объектов?\n",
    "* Как строить $a(x)$?\n",
    "    * LEARNING = REPRESENTATION + EVALUATION + OPTIMIZATION \n",
    "* Что делать с предсказанием на основе $a(х)$?\n",
    "    * Принятие решений, оценка рисков и полезности"
   ]
  },
  {
   "cell_type": "markdown",
   "metadata": {
    "slideshow": {
     "slide_type": "slide"
    }
   },
   "source": [
    "#  Метрические методы классификации и регрессии\n",
    "## Метод k-ближайших соседей"
   ]
  },
  {
   "cell_type": "markdown",
   "metadata": {
    "collapsed": true,
    "slideshow": {
     "slide_type": "subslide"
    }
   },
   "source": [
    "## Гипотеза компактности\n",
    "\n",
    "Идею, заложенную в метрические методы можно сформулировать так: <br/>\n",
    "\n",
    "\"Для нового объекта $x$ надо найти наиболее похожие объекты из обучающей выборки и выдать соответствующее им значение целего признака $y$\"\n"
   ]
  },
  {
   "cell_type": "markdown",
   "metadata": {
    "slideshow": {
     "slide_type": "subslide"
    }
   },
   "source": [
    "<center><img src='http://ichef-1.bbci.co.uk/news/624/cpsprodpb/13ED9/production/_87552618_fourupcomp.jpg' width=500></center>\n",
    "\n",
    "* Объекты: Семьи, индивиды\n",
    "* Признаки: Адрес проживания, почтовый индекс, популярный супермаркет... $\\rightarrow$ координаты `(lat, lon)`\n",
    "* Предскание: Раса (классификация)"
   ]
  },
  {
   "cell_type": "markdown",
   "metadata": {
    "slideshow": {
     "slide_type": "subslide"
    }
   },
   "source": [
    "<center><img src='california_house.png' width=500></center>\n",
    "\n",
    "* Объекты: Недвижимость\n",
    "* Признаки: Адрес дома... $\\rightarrow$ координаты `(lat, lon)`\n",
    "* Предсказание: Стоимость дома (регрессия)"
   ]
  },
  {
   "cell_type": "markdown",
   "metadata": {
    "slideshow": {
     "slide_type": "subslide"
    }
   },
   "source": [
    "<center><img src='dna_seq.png' width=900></center>\n",
    "* Объекты: Строки\n",
    "* Признаки: ??\n",
    "* Предсказание: Функциональность гена (класс)"
   ]
  },
  {
   "cell_type": "markdown",
   "metadata": {
    "slideshow": {
     "slide_type": "subslide"
    }
   },
   "source": [
    "<hr>\n",
    "<center><img src='text_classify.png' width=600></center>\n",
    "* Объекты: Тексты статей, постов блогов\n",
    "* Признаки: Частоты слов\n",
    "* Предсказание: Категория текста (класс)"
   ]
  },
  {
   "cell_type": "markdown",
   "metadata": {
    "slideshow": {
     "slide_type": "slide"
    }
   },
   "source": [
    "# Меры близости\n",
    "\n",
    "* Как определить похожие объекты?\n",
    "\n",
    "* Необходимо ввести функцию расстояния (не обязательно метрику)\n",
    "\n",
    "### Самые популярные\n",
    "\n",
    "$$ d(a, b) = \\sum\\limits_{i=1}^{D}(a_i - b_i)^2 \\text{: euclidean distance} $$\n",
    "\n",
    "$$ d(a, b) = \\sum\\limits_{i=1}^{D}|a_i - b_i| \\text{: manhattan distance} $$\n",
    "\n",
    "$$ d(a, b) = 1 - \\frac{\\langle a,b \\rangle}{||a||_2\\cdot||b||_2} \\text{: cosine distance} $$\n",
    "\n"
   ]
  },
  {
   "cell_type": "markdown",
   "metadata": {
    "slideshow": {
     "slide_type": "subslide"
    }
   },
   "source": [
    "### Близость на строках\n",
    "* Расстояние Левинштейна\n",
    "<center><img src='levinstein_dist.png' width=400></center>\n",
    "* Расстояние [Жаро-Винклера](https://en.wikipedia.org/wiki/Jaro%E2%80%93Winkler_distance)\n",
    "* ..."
   ]
  },
  {
   "cell_type": "markdown",
   "metadata": {
    "slideshow": {
     "slide_type": "subslide"
    }
   },
   "source": [
    "### Близость на временных рядах\n",
    "* Если они одинаковой длинны, то подойдет и евклид\n",
    "* Если нет - Dynamic Time Warping \n",
    "<center><img src='https://i0.wp.com/qusma.com/wp-content/uploads/2013/12/dtw.png' width=500></center>"
   ]
  },
  {
   "cell_type": "markdown",
   "metadata": {
    "slideshow": {
     "slide_type": "subslide"
    }
   },
   "source": [
    "### Близость на множествах\n",
    "* Пусть объект описываеться набором категорий, слов, тегов\n",
    "    * Клиент a: {Картофель фри, биг-мак, кофе, маффин}\n",
    "    * Клиент b: {Картофель фри, сырный соус, чизбургер, кофе, пирожок}\n",
    "* Расстояние Жаккара - Jaccard distance:\n",
    "    * $$d(a,b) = 1 - \\frac{|a \\cap b|}{|a \\cup b|}$$\n",
    "    * $$d(a,b) = 1 - \\frac{2}{7} = \\frac{5}{7} $$\n",
    "* При правильном представлении данных, можно считать и косинус"
   ]
  },
  {
   "cell_type": "markdown",
   "metadata": {
    "slideshow": {
     "slide_type": "slide"
    }
   },
   "source": [
    "# Метод k ближайших соседей\n",
    "\n",
    "Вход: Обучающая выборка $X=(x_i,y_i)$, мера близости $d(\\cdot, \\cdot)$ и объект $\\tilde{x}$<br/>\n",
    "\n",
    "Найти $k$ ближайших объекта в $X$ c помощью $d(\\tilde{x},\\cdot)$ \n",
    "* (регрессия) вернуть среднее значение* $$\\hat{y} = \\frac{1}{k}\\sum\\limits_{j=1}^k y_{(j)}$$\n",
    "* (классификация) вернуть наиболее частую метку класса $$\\hat{y} = \\arg \\max\\limits_{y \\in \\{-1, 1\\}}\\sum\\limits_{j=1}^k [y_{(j)} == y] $$\n"
   ]
  },
  {
   "cell_type": "code",
   "execution_count": null,
   "metadata": {
    "collapsed": true,
    "slideshow": {
     "slide_type": "skip"
    }
   },
   "outputs": [],
   "source": [
    "from sklearn.neighbors import KNeighborsClassifier\n",
    "from sklearn.neighbors import KNeighborsRegressor\n",
    "from sklearn.linear_model import LinearRegression"
   ]
  },
  {
   "cell_type": "code",
   "execution_count": null,
   "metadata": {
    "collapsed": false,
    "slideshow": {
     "slide_type": "skip"
    }
   },
   "outputs": [],
   "source": [
    "x_true = np.arange(-5, 5, 0.2)\n",
    "x = x_true + np.random.rand(x_true.shape[0]) - 0.5\n",
    "y_true = np.sin(x_true)+x_true/3\n",
    "y = y_true + np.random.rand(x_true.shape[0]) - 0.5"
   ]
  },
  {
   "cell_type": "code",
   "execution_count": null,
   "metadata": {
    "collapsed": false,
    "slideshow": {
     "slide_type": "subslide"
    }
   },
   "outputs": [],
   "source": [
    "plt.plot(x_true, y_true, c='g', label='$f(x)$')\n",
    "plt.scatter(x, y, label='actual data')\n",
    "plt.xlabel('x')\n",
    "plt.ylabel('y')\n",
    "plt.legend(loc=2)"
   ]
  },
  {
   "cell_type": "code",
   "execution_count": null,
   "metadata": {
    "collapsed": true,
    "slideshow": {
     "slide_type": "skip"
    }
   },
   "outputs": [],
   "source": [
    "def plot_linreg():\n",
    "    lin_reg = LinearRegression()\n",
    "    lin_reg.fit(x.reshape(-1,1), y)\n",
    "    y_hat = lin_reg.predict(x_true.reshape(-1,1))\n",
    "    \n",
    "    plt.plot(x_true, y_true, c='g', label='$f(x)$')\n",
    "    plt.scatter(x, y, label='actual data')\n",
    "    plt.xlabel('x')\n",
    "    plt.ylabel('y')\n",
    "    plt.plot(x_true, y_hat, c='r', label='linear regression')\n",
    "    plt.legend(loc=2)"
   ]
  },
  {
   "cell_type": "code",
   "execution_count": null,
   "metadata": {
    "collapsed": false,
    "slideshow": {
     "slide_type": "subslide"
    }
   },
   "outputs": [],
   "source": [
    "plot_linreg()"
   ]
  },
  {
   "cell_type": "code",
   "execution_count": null,
   "metadata": {
    "collapsed": false,
    "slideshow": {
     "slide_type": "skip"
    }
   },
   "outputs": [],
   "source": [
    "from ipywidgets import interact, IntSlider\n",
    "\n",
    "def plot_knn(k=1):\n",
    "    knn = KNeighborsRegressor(n_neighbors=k)\n",
    "    knn.fit(x.reshape(-1,1), y)\n",
    "    y_hat = knn.predict(x_true.reshape(-1,1))\n",
    "    \n",
    "    plt.plot(x_true, y_true, c='g', label='$f(x)$')\n",
    "    plt.scatter(x, y, label='actual data')\n",
    "    plt.xlabel('x')\n",
    "    plt.ylabel('y')\n",
    "    plt.plot(x_true, y_hat, c='r', label='knn, $k=%d$' % k)\n",
    "    plt.legend(loc=2)\n",
    "    \n",
    "    return None"
   ]
  },
  {
   "cell_type": "code",
   "execution_count": null,
   "metadata": {
    "collapsed": false,
    "slideshow": {
     "slide_type": "subslide"
    }
   },
   "outputs": [],
   "source": [
    "fig = interact(plot_knn, k=IntSlider(min=1, max=10, value=1))"
   ]
  },
  {
   "cell_type": "code",
   "execution_count": null,
   "metadata": {
    "collapsed": true,
    "slideshow": {
     "slide_type": "skip"
    }
   },
   "outputs": [],
   "source": [
    "from sklearn.datasets import make_moons\n",
    "X_moons, y_moons = make_moons(noise=0.3, random_state=1234)"
   ]
  },
  {
   "cell_type": "code",
   "execution_count": null,
   "metadata": {
    "collapsed": false,
    "slideshow": {
     "slide_type": "subslide"
    }
   },
   "outputs": [],
   "source": [
    "plt.scatter(X_moons[:,0], X_moons[:,1], c=y_moons)\n",
    "plt.xlabel('$x_1$')\n",
    "plt.ylabel('$x_2$')"
   ]
  },
  {
   "cell_type": "code",
   "execution_count": null,
   "metadata": {
    "collapsed": true,
    "slideshow": {
     "slide_type": "skip"
    }
   },
   "outputs": [],
   "source": [
    "def plot_knn_class(k=1, prob=False):\n",
    "    \n",
    "    plt.scatter(X_moons[:,0], X_moons[:,1], c=y_moons)\n",
    "    plt.xlabel('$x_1$')\n",
    "    plt.ylabel('$x_2$')\n",
    "    \n",
    "    knn = KNeighborsClassifier(n_neighbors=k, metric='minkowski', p=2)\n",
    "    knn.fit(X_moons, y_moons)\n",
    "    \n",
    "    x_range = np.linspace(X_moons.min(), X_moons.max(), 500)\n",
    "    # ОДЗ значений признаков\n",
    "\n",
    "    xx1, xx2 = np.meshgrid(x_range, x_range)\n",
    "    # всевозможные попарные значения признаков\n",
    "    if prob:\n",
    "        Y = knn.predict_proba(np.c_[xx1.ravel(), xx2.ravel()])[:,1]\n",
    "    else:\n",
    "        Y = knn.predict(np.c_[xx1.ravel(), xx2.ravel()])\n",
    "    Y = Y.reshape(xx1.shape)\n",
    "\n",
    "    plt.contourf(xx1, xx2, Y, alpha=0.3)\n",
    "    plt.scatter(X_moons[:,0], X_moons[:,1],c=y_moons)"
   ]
  },
  {
   "cell_type": "code",
   "execution_count": null,
   "metadata": {
    "collapsed": false,
    "slideshow": {
     "slide_type": "subslide"
    }
   },
   "outputs": [],
   "source": [
    "fig = interact(plot_knn_class, k=IntSlider(min=1, max=10, value=1))"
   ]
  },
  {
   "cell_type": "markdown",
   "metadata": {
    "slideshow": {
     "slide_type": "fragment"
    }
   },
   "source": [
    "Проблема - никак не учитывается важность соседей в зависимости от их близости!"
   ]
  },
  {
   "cell_type": "markdown",
   "metadata": {
    "slideshow": {
     "slide_type": "subslide"
    }
   },
   "source": [
    "## Взвешенный KNN\n",
    "\n",
    "* (регрессия) вернуть среднее взвешенное значение* $$\\hat{y} = \\frac{\\sum\\limits_{j=1}^k w_{(j)} y_{(j)}}{\\sum\\limits_{j=1}^k w_{(j)}}$$\n",
    "* (классификация) вернуть наиболее частую метку класса c учетом веса $$\\hat{y} = \\arg \\max\\limits_{y \\in \\{-1, 1\\}}\\sum\\limits_{j=1}^k w_{(j)} [y_{(j)} == y] $$\n",
    "\n",
    "### Варианты весов\n",
    "* $w_{(j)} = \\frac{k - j + 1}{k}$\n",
    "* $w_{(j)} = 1/d(\\tilde{x},x_{(j)})$\n",
    "* $w_{(j)} = K(\\frac{d(\\tilde{x},x_{(j)})}{h}) $ Парзеновское окно (Parzen Window).\n",
    "    * $K$ - ядро, $h$ - ширина окна\n"
   ]
  },
  {
   "cell_type": "markdown",
   "metadata": {
    "slideshow": {
     "slide_type": "subslide"
    }
   },
   "source": [
    "### Ядра\n",
    "* $K(d, h) \\propto \\exp(- \\frac{d^2}{2h^2})$ - gaussian kernel\n",
    "* $K(d, h) \\propto 1 if x < d$ - tophat kernel\n",
    "* $K(d, h) \\propto 1 - \\frac{d^2}{h^2}$ - epanechnikov kernel\n",
    "* $K(d, h) \\propto \\exp(-d/h)$ - exponential kernel\n",
    "* $K(d, h) \\propto 1 - d/h if d < h$ - linear kernel\n",
    "* $K(d, h) \\propto \\cos(\\frac{\\pi d}{2h}) if x < h$ - linear kernel\n",
    "\n",
    "<center><img src='http://scikit-learn.org/stable/_images/sphx_glr_plot_kde_1d_0021.png'></center>"
   ]
  },
  {
   "cell_type": "code",
   "execution_count": null,
   "metadata": {
    "collapsed": false,
    "slideshow": {
     "slide_type": "skip"
    }
   },
   "outputs": [],
   "source": [
    "from ipywidgets import FloatSlider\n",
    "\n",
    "\n",
    "\n",
    "def plot_knn_class_kernel(k=1, h=0.5, prob=False, use_all=False):\n",
    "    \n",
    "    def gauss_kernel(d, h=h):\n",
    "        return np.exp(-(d**2)/(2*h**2))\n",
    "    \n",
    "    plt.scatter(X_moons[:,0], X_moons[:,1], c=y_moons)\n",
    "    plt.xlabel('$x_1$')\n",
    "    plt.ylabel('$x_2$')\n",
    "    \n",
    "    if use_all:\n",
    "        knn = KNeighborsClassifier(n_neighbors=70, metric='minkowski', p=2, weights=gauss_kernel)\n",
    "    else:\n",
    "        knn = KNeighborsClassifier(n_neighbors=k, metric='minkowski', p=2, weights=gauss_kernel)\n",
    "    knn.fit(X_moons, y_moons)\n",
    "    \n",
    "    x_range = np.linspace(X_moons.min(), X_moons.max(), 500)\n",
    "    # ОДЗ значений признаков\n",
    "\n",
    "    xx1, xx2 = np.meshgrid(x_range, x_range)\n",
    "    # всевозможные попарные значения признаков\n",
    "    if prob:\n",
    "        Y = knn.predict_proba(np.c_[xx1.ravel(), xx2.ravel()])[:,1]\n",
    "    else:\n",
    "        Y = knn.predict(np.c_[xx1.ravel(), xx2.ravel()])\n",
    "    Y = Y.reshape(xx1.shape)\n",
    "\n",
    "    plt.contourf(xx1, xx2, Y, alpha=0.3)\n",
    "    plt.scatter(X_moons[:,0], X_moons[:,1], c=y_moons)"
   ]
  },
  {
   "cell_type": "code",
   "execution_count": null,
   "metadata": {
    "collapsed": false,
    "slideshow": {
     "slide_type": "subslide"
    }
   },
   "outputs": [],
   "source": [
    "fig = interact(plot_knn_class_kernel, k=IntSlider(min=1, max=10, value=1), \n",
    "               h=FloatSlider(min=0.05, max=5, value=1, step=0.05))"
   ]
  },
  {
   "cell_type": "markdown",
   "metadata": {
    "slideshow": {
     "slide_type": "slide"
    }
   },
   "source": [
    "# Параметры vs Гиперпараметры\n",
    "\n",
    "При работе с моделями следует различать понятия **Параметр** и **Гипер-параметр**.\n",
    "\n",
    "* **Параметр** - составляющая модели, которая определяется в процессе обучения (решения оптимизационной задачи)\n",
    "    * Веса коэффициентов в модели линейной регрессии\n",
    "* **Гиперпараметр** - составляющая модели, которая задается перед началом обучения. Может регулировать некоторые свойства модели (скорость оптимизации) или ее сложность\n",
    "    * Коэффициент регуляризации в линейной регрессии\n",
    "    \n",
    "Как дела обстоят у kNN?\n"
   ]
  },
  {
   "cell_type": "markdown",
   "metadata": {
    "slideshow": {
     "slide_type": "subslide"
    }
   },
   "source": [
    "#### Гиперпараметры kNN\n",
    "\n",
    "* Число соседей\n",
    "* Функция расстояния\n",
    "* Ядро, ширина окна"
   ]
  },
  {
   "cell_type": "markdown",
   "metadata": {
    "slideshow": {
     "slide_type": "slide"
    }
   },
   "source": [
    "# TL;DR\n",
    "\n",
    "* kNN - \"ленивый\", непараметрический метод машинного обучения\n",
    "* При работе с некоторыми мерами сходства надо учитывать масштаб признаков\n",
    "* Вес соседей можно определять по их близости\n",
    "\n",
    "\n",
    "## Полезные ссылки\n",
    "* [A few fact about ML](https://homes.cs.washington.edu/~pedrod/papers/cacm12.pdf)\n",
    "* [Про проклятье размерности на пальцах](http://www.visiondummy.com/2014/04/curse-dimensionality-affect-classification/)\n",
    "* [Сравнение методов поиска ближайших соседей](http://jakevdp.github.io/blog/2013/04/29/benchmarking-nearest-neighbor-searches-in-python/)"
   ]
  },
  {
   "cell_type": "code",
   "execution_count": null,
   "metadata": {
    "collapsed": true
   },
   "outputs": [],
   "source": []
  }
 ],
 "metadata": {
  "anaconda-cloud": {},
  "celltoolbar": "Slideshow",
  "kernelspec": {
   "display_name": "Python [conda root]",
   "language": "python",
   "name": "conda-root-py"
  },
  "language_info": {
   "codemirror_mode": {
    "name": "ipython",
    "version": 2
   },
   "file_extension": ".py",
   "mimetype": "text/x-python",
   "name": "python",
   "nbconvert_exporter": "python",
   "pygments_lexer": "ipython2",
   "version": "2.7.12"
  },
  "livereveal": {
   "theme": "serif",
   "transition": "concave",
   "width": "1024px"
  },
  "nav_menu": {},
  "toc": {
   "navigate_menu": true,
   "number_sections": false,
   "sideBar": true,
   "threshold": 6,
   "toc_cell": false,
   "toc_section_display": "none",
   "toc_window_display": false
  },
  "toc_position": {
   "height": "973px",
   "left": "0px",
   "right": "1708px",
   "top": "109px",
   "width": "212px"
  }
 },
 "nbformat": 4,
 "nbformat_minor": 2
}
